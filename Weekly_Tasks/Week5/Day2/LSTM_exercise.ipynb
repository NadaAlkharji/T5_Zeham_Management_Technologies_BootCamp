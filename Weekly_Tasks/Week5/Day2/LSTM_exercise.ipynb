{
  "nbformat": 4,
  "nbformat_minor": 0,
  "metadata": {
    "colab": {
      "provenance": [],
      "gpuType": "T4"
    },
    "kernelspec": {
      "name": "python3",
      "display_name": "Python 3"
    },
    "language_info": {
      "name": "python"
    },
    "accelerator": "GPU"
  },
  "cells": [
    {
      "cell_type": "markdown",
      "source": [
        "# **LSTM Exercise**"
      ],
      "metadata": {
        "id": "DeDMU8rGJtM7"
      }
    },
    {
      "cell_type": "markdown",
      "source": [
        "## Import libraries"
      ],
      "metadata": {
        "id": "73pucHkDJoyN"
      }
    },
    {
      "cell_type": "code",
      "execution_count": 42,
      "metadata": {
        "id": "W3AjCzdQJmSK"
      },
      "outputs": [],
      "source": [
        "import numpy as np\n",
        "import matplotlib.pyplot as plt\n",
        "import pandas as pd\n",
        "import tensorflow as tf\n",
        "from tensorflow.keras.models import Sequential\n",
        "from tensorflow.keras.layers import Dense\n",
        "from tensorflow.keras.layers import LSTM\n",
        "from sklearn.preprocessing import MinMaxScaler\n",
        "from sklearn.metrics import mean_squared_error"
      ]
    },
    {
      "cell_type": "markdown",
      "source": [
        "## load the dataset\n",
        "### Dataset path : 5- Time series forecasting/2-2- Time Series Forecasting (LSTM and GRU)\n",
        "/ LAB/Dataset/traffic.csv\n"
      ],
      "metadata": {
        "id": "91J8oMpJKYkO"
      }
    },
    {
      "cell_type": "code",
      "source": [
        "tf.random.set_seed(7)"
      ],
      "metadata": {
        "id": "xSDzQZKJe0ay"
      },
      "execution_count": 43,
      "outputs": []
    },
    {
      "cell_type": "code",
      "source": [
        "dataframe = pd.read_csv('traffic.csv', usecols=[2], engine='python')\n",
        "dataset = dataframe.values\n",
        "dataset = dataset.astype('float32')"
      ],
      "metadata": {
        "id": "Cyx1SwgJJ8Y9"
      },
      "execution_count": 44,
      "outputs": []
    },
    {
      "cell_type": "markdown",
      "source": [
        "## Normalize the dataset"
      ],
      "metadata": {
        "id": "i7yyKGkVKi88"
      }
    },
    {
      "cell_type": "code",
      "source": [
        "scaler = MinMaxScaler(feature_range=(0, 1))\n",
        "dataset = scaler.fit_transform(dataset)"
      ],
      "metadata": {
        "id": "dacoPvqbKdpP"
      },
      "execution_count": 45,
      "outputs": []
    },
    {
      "cell_type": "markdown",
      "source": [
        "## split into train and test sets"
      ],
      "metadata": {
        "id": "GV-4d-zxKvJI"
      }
    },
    {
      "cell_type": "code",
      "source": [
        "train_size = int(len(dataset) * 0.67)\n",
        "test_size = len(dataset) - train_size\n",
        "train, test = dataset[0:train_size,:], dataset[train_size:len(dataset),:]\n",
        "print(len(train), len(test))"
      ],
      "metadata": {
        "id": "4K7bNBFiKr_j",
        "colab": {
          "base_uri": "https://localhost:8080/"
        },
        "outputId": "403739ef-d3a6-4cdc-dab5-e81824743d1b"
      },
      "execution_count": 46,
      "outputs": [
        {
          "output_type": "stream",
          "name": "stdout",
          "text": [
            "32240 15880\n"
          ]
        }
      ]
    },
    {
      "cell_type": "code",
      "source": [
        "def create_dataset(dataset, look_back=1):\n",
        "    dataX, dataY = [], []\n",
        "    for i in range(len(dataset)-look_back-1):\n",
        "        a = dataset[i:(i+look_back), 0]\n",
        "        dataX.append(a)\n",
        "        dataY.append(dataset[i + look_back, 0])\n",
        "    return np.array(dataX), np.array(dataY)"
      ],
      "metadata": {
        "id": "wTjET4bZfWFC"
      },
      "execution_count": 47,
      "outputs": []
    },
    {
      "cell_type": "code",
      "source": [
        "look_back = 1\n",
        "trainX, trainY = create_dataset(train, look_back)\n",
        "testX, testY = create_dataset(test, look_back)"
      ],
      "metadata": {
        "id": "4tv5foGzfZMH"
      },
      "execution_count": 48,
      "outputs": []
    },
    {
      "cell_type": "code",
      "source": [
        "trainX = np.reshape(trainX, (trainX.shape[0], 1, trainX.shape[1]))\n",
        "testX = np.reshape(testX, (testX.shape[0], 1, testX.shape[1]))\n"
      ],
      "metadata": {
        "id": "KQHu7EGRfxFH"
      },
      "execution_count": 49,
      "outputs": []
    },
    {
      "cell_type": "markdown",
      "source": [
        "## Fit the LSTM"
      ],
      "metadata": {
        "id": "Enlx1TQhLcp5"
      }
    },
    {
      "cell_type": "code",
      "source": [
        "model = Sequential()\n",
        "model.add(LSTM(4, input_shape=(1, look_back)))\n",
        "model.add(Dense(1))\n",
        "model.compile(loss='mean_squared_error', optimizer='adam')\n",
        "model.fit(trainX, trainY, epochs=50, batch_size=32, verbose=2)\n"
      ],
      "metadata": {
        "id": "tKTnFm3lLcIj",
        "colab": {
          "base_uri": "https://localhost:8080/"
        },
        "outputId": "8d68551f-4085-4193-adc2-d88b7faaadc0"
      },
      "execution_count": 50,
      "outputs": [
        {
          "output_type": "stream",
          "name": "stdout",
          "text": [
            "Epoch 1/50\n"
          ]
        },
        {
          "output_type": "stream",
          "name": "stderr",
          "text": [
            "/usr/local/lib/python3.10/dist-packages/keras/src/layers/rnn/rnn.py:204: UserWarning: Do not pass an `input_shape`/`input_dim` argument to a layer. When using Sequential models, prefer using an `Input(shape)` object as the first layer in the model instead.\n",
            "  super().__init__(**kwargs)\n"
          ]
        },
        {
          "output_type": "stream",
          "name": "stdout",
          "text": [
            "1008/1008 - 4s - 4ms/step - loss: 0.0057\n",
            "Epoch 2/50\n",
            "1008/1008 - 3s - 3ms/step - loss: 7.3260e-04\n",
            "Epoch 3/50\n",
            "1008/1008 - 3s - 3ms/step - loss: 7.3058e-04\n",
            "Epoch 4/50\n",
            "1008/1008 - 3s - 3ms/step - loss: 7.2897e-04\n",
            "Epoch 5/50\n",
            "1008/1008 - 5s - 5ms/step - loss: 7.2798e-04\n",
            "Epoch 6/50\n",
            "1008/1008 - 3s - 3ms/step - loss: 7.2750e-04\n",
            "Epoch 7/50\n",
            "1008/1008 - 4s - 4ms/step - loss: 7.2731e-04\n",
            "Epoch 8/50\n",
            "1008/1008 - 3s - 3ms/step - loss: 7.2723e-04\n",
            "Epoch 9/50\n",
            "1008/1008 - 5s - 5ms/step - loss: 7.2719e-04\n",
            "Epoch 10/50\n",
            "1008/1008 - 5s - 5ms/step - loss: 7.2717e-04\n",
            "Epoch 11/50\n",
            "1008/1008 - 5s - 5ms/step - loss: 7.2715e-04\n",
            "Epoch 12/50\n",
            "1008/1008 - 6s - 6ms/step - loss: 7.2713e-04\n",
            "Epoch 13/50\n",
            "1008/1008 - 4s - 4ms/step - loss: 7.2711e-04\n",
            "Epoch 14/50\n",
            "1008/1008 - 3s - 3ms/step - loss: 7.2709e-04\n",
            "Epoch 15/50\n",
            "1008/1008 - 3s - 3ms/step - loss: 7.2707e-04\n",
            "Epoch 16/50\n",
            "1008/1008 - 5s - 5ms/step - loss: 7.2704e-04\n",
            "Epoch 17/50\n",
            "1008/1008 - 3s - 3ms/step - loss: 7.2702e-04\n",
            "Epoch 18/50\n",
            "1008/1008 - 3s - 3ms/step - loss: 7.2700e-04\n",
            "Epoch 19/50\n",
            "1008/1008 - 4s - 4ms/step - loss: 7.2698e-04\n",
            "Epoch 20/50\n",
            "1008/1008 - 3s - 3ms/step - loss: 7.2696e-04\n",
            "Epoch 21/50\n",
            "1008/1008 - 5s - 5ms/step - loss: 7.2694e-04\n",
            "Epoch 22/50\n",
            "1008/1008 - 6s - 5ms/step - loss: 7.2692e-04\n",
            "Epoch 23/50\n",
            "1008/1008 - 5s - 5ms/step - loss: 7.2690e-04\n",
            "Epoch 24/50\n",
            "1008/1008 - 3s - 3ms/step - loss: 7.2688e-04\n",
            "Epoch 25/50\n",
            "1008/1008 - 5s - 5ms/step - loss: 7.2686e-04\n",
            "Epoch 26/50\n",
            "1008/1008 - 5s - 5ms/step - loss: 7.2684e-04\n",
            "Epoch 27/50\n",
            "1008/1008 - 3s - 3ms/step - loss: 7.2681e-04\n",
            "Epoch 28/50\n",
            "1008/1008 - 5s - 5ms/step - loss: 7.2680e-04\n",
            "Epoch 29/50\n",
            "1008/1008 - 3s - 3ms/step - loss: 7.2677e-04\n",
            "Epoch 30/50\n",
            "1008/1008 - 3s - 3ms/step - loss: 7.2676e-04\n",
            "Epoch 31/50\n",
            "1008/1008 - 4s - 4ms/step - loss: 7.2673e-04\n",
            "Epoch 32/50\n",
            "1008/1008 - 4s - 4ms/step - loss: 7.2672e-04\n",
            "Epoch 33/50\n",
            "1008/1008 - 3s - 3ms/step - loss: 7.2670e-04\n",
            "Epoch 34/50\n",
            "1008/1008 - 3s - 3ms/step - loss: 7.2668e-04\n",
            "Epoch 35/50\n",
            "1008/1008 - 5s - 5ms/step - loss: 7.2666e-04\n",
            "Epoch 36/50\n",
            "1008/1008 - 5s - 5ms/step - loss: 7.2664e-04\n",
            "Epoch 37/50\n",
            "1008/1008 - 4s - 4ms/step - loss: 7.2662e-04\n",
            "Epoch 38/50\n",
            "1008/1008 - 3s - 3ms/step - loss: 7.2660e-04\n",
            "Epoch 39/50\n",
            "1008/1008 - 3s - 3ms/step - loss: 7.2659e-04\n",
            "Epoch 40/50\n",
            "1008/1008 - 3s - 3ms/step - loss: 7.2657e-04\n",
            "Epoch 41/50\n",
            "1008/1008 - 4s - 4ms/step - loss: 7.2655e-04\n",
            "Epoch 42/50\n",
            "1008/1008 - 4s - 4ms/step - loss: 7.2654e-04\n",
            "Epoch 43/50\n",
            "1008/1008 - 3s - 3ms/step - loss: 7.2653e-04\n",
            "Epoch 44/50\n",
            "1008/1008 - 3s - 3ms/step - loss: 7.2651e-04\n",
            "Epoch 45/50\n",
            "1008/1008 - 4s - 4ms/step - loss: 7.2650e-04\n",
            "Epoch 46/50\n",
            "1008/1008 - 3s - 3ms/step - loss: 7.2649e-04\n",
            "Epoch 47/50\n",
            "1008/1008 - 5s - 5ms/step - loss: 7.2648e-04\n",
            "Epoch 48/50\n",
            "1008/1008 - 5s - 5ms/step - loss: 7.2647e-04\n",
            "Epoch 49/50\n",
            "1008/1008 - 3s - 3ms/step - loss: 7.2646e-04\n",
            "Epoch 50/50\n",
            "1008/1008 - 3s - 3ms/step - loss: 7.2645e-04\n"
          ]
        },
        {
          "output_type": "execute_result",
          "data": {
            "text/plain": [
              "<keras.src.callbacks.history.History at 0x7ecb2d307070>"
            ]
          },
          "metadata": {},
          "execution_count": 50
        }
      ]
    },
    {
      "cell_type": "markdown",
      "source": [
        "## Make preductuion and evaluatuin matrix."
      ],
      "metadata": {
        "id": "NwP_TpFfL7nA"
      }
    },
    {
      "cell_type": "code",
      "source": [
        "trainPredict = model.predict(trainX)\n",
        "testPredict = model.predict(testX)\n",
        "\n",
        "trainPredict = scaler.inverse_transform(trainPredict)\n",
        "trainY = scaler.inverse_transform([trainY])\n",
        "testPredict = scaler.inverse_transform(testPredict)\n",
        "testY = scaler.inverse_transform([testY])\n",
        "\n",
        "trainScore = np.sqrt(mean_squared_error(trainY[0], trainPredict[:,0]))\n",
        "print('Train Score: %.2f RMSE' % (trainScore))\n",
        "testScore = np.sqrt(mean_squared_error(testY[0], testPredict[:,0]))\n",
        "print('Test Score: %.2f RMSE' % (testScore))\n"
      ],
      "metadata": {
        "id": "4lEgbNGULrbv",
        "colab": {
          "base_uri": "https://localhost:8080/"
        },
        "outputId": "4946c5c0-1f43-4618-f3ae-1c65be1787dd"
      },
      "execution_count": 51,
      "outputs": [
        {
          "output_type": "stream",
          "name": "stdout",
          "text": [
            "\u001b[1m1008/1008\u001b[0m \u001b[32m━━━━━━━━━━━━━━━━━━━━\u001b[0m\u001b[37m\u001b[0m \u001b[1m2s\u001b[0m 2ms/step\n",
            "\u001b[1m497/497\u001b[0m \u001b[32m━━━━━━━━━━━━━━━━━━━━\u001b[0m\u001b[37m\u001b[0m \u001b[1m1s\u001b[0m 1ms/step\n",
            "Train Score: 4.82 RMSE\n",
            "Test Score: 5.49 RMSE\n"
          ]
        }
      ]
    },
    {
      "cell_type": "markdown",
      "source": [
        "## Visualize the result"
      ],
      "metadata": {
        "id": "ZpkMef5uMULa"
      }
    },
    {
      "cell_type": "code",
      "source": [
        "trainPredictPlot = np.empty_like(dataset)\n",
        "trainPredictPlot[:, :] = np.nan\n",
        "trainPredictPlot[look_back:len(trainPredict)+look_back, :] = trainPredict\n",
        "\n",
        "testPredictPlot = np.empty_like(dataset)\n",
        "testPredictPlot[:, :] = np.nan\n",
        "testPredictPlot[len(trainPredict)+(look_back*2)+1:len(dataset)-1, :] = testPredict\n",
        "\n",
        "plt.plot(scaler.inverse_transform(dataset))\n",
        "plt.plot(trainPredictPlot)\n",
        "plt.plot(testPredictPlot)\n",
        "plt.show()\n"
      ],
      "metadata": {
        "id": "B1T1VicEMXC_",
        "colab": {
          "base_uri": "https://localhost:8080/",
          "height": 430
        },
        "outputId": "55de1c0d-89d4-46d7-c18a-f2867f39df1a"
      },
      "execution_count": 52,
      "outputs": [
        {
          "output_type": "display_data",
          "data": {
            "text/plain": [
              "<Figure size 640x480 with 1 Axes>"
            ],
            "image/png": "[encoded data removed]"
          },
          "metadata": {}
        }
      ]
    },
    {
      "cell_type": "markdown",
      "source": [
        "# **Well done** :)"
      ],
      "metadata": {
        "id": "_80frLg-MENd"
      }
    }
  ]
}