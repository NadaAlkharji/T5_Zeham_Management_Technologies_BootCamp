{
  "cells": [
    {
      "cell_type": "markdown",
      "id": "f0946ef5",
      "metadata": {
        "id": "f0946ef5"
      },
      "source": [
        "# Clustering and Dimensionality Reduction Exam\n",
        "Welcome to the weekly project on clustering and dimensionality reduction. You will be working with a dataset of traffic accidents.\n",
        "\n",
        "## Dataset\n",
        "The dataset that will be used in this task is `Traffic_Accidents.csv`\n",
        "\n",
        "## Instructions\n",
        "- Follow the steps outlined below.\n",
        "- Write your code in the empty code cells.\n",
        "- Comment on your code to explain your reasoning.\n",
        "\n",
        "## Dataset Overview\n",
        "The dataset contains information about traffic accidents, including location, weather conditions, road conditions, and more. Below are sample of these columns:\n",
        "\n",
        "* `Location_Easting_OSGR`: Easting coordinate of the accident location.\n",
        "* `Location_Northing_OSGR`: Northing coordinate of the accident location.\n",
        "* `Longitude`: Longitude of the accident site.\n",
        "* `Latitude`: Latitude of the accident site.\n",
        "* `Police_Force`: Identifier for the police force involved.\n",
        "* `Accident_Severity`: Severity of the accident.\n",
        "* `Number_of_Vehicles`: Number of vehicles involved in the accident.\n",
        "* `Number_of_Casualties`: Number of casualties in the accident.\n",
        "* `Date`: Date of the accident.\n",
        "* `Day_of_Week`: Day of the week when the accident occurred.\n",
        "* `Speed_limit`: Speed limit in the area where the accident occurred.\n",
        "* `Weather_Conditions`: Weather conditions at the time of the accident.\n",
        "* `Road_Surface_Conditions`: Condition of the road surface during the accident.\n",
        "* `Urban_or_Rural_Area`: Whether the accident occurred in an urban or rural area.\n",
        "* `Year`: Year when the accident was recorded.\n",
        "* Additional attributes related to road type, pedestrian crossing, light conditions, etc.\n",
        "\n",
        "## Goal\n",
        "The primary goal is to analyze the accidents based on their geographical location.\n"
      ]
    },
    {
      "cell_type": "markdown",
      "id": "e2d10a84",
      "metadata": {
        "id": "e2d10a84"
      },
      "source": [
        "## Import Libraries"
      ]
    },
    {
      "cell_type": "code",
      "execution_count": 118,
      "id": "9ee4bcdb",
      "metadata": {
        "id": "9ee4bcdb"
      },
      "outputs": [],
      "source": [
        "import pandas as pd\n",
        "import matplotlib.pyplot as plt\n",
        "import seaborn as sns\n",
        "from sklearn.cluster import KMeans\n",
        "from sklearn.decomposition import PCA\n",
        "from sklearn.preprocessing import StandardScaler ,LabelEncoder\n",
        "from sklearn.metrics import silhouette_score"
      ]
    },
    {
      "cell_type": "markdown",
      "id": "8a257dea",
      "metadata": {
        "id": "8a257dea"
      },
      "source": [
        "## Load the Data"
      ]
    },
    {
      "cell_type": "code",
      "execution_count": 119,
      "id": "2832846e",
      "metadata": {
        "id": "2832846e"
      },
      "outputs": [],
      "source": [
        "df = pd.read_csv('Traffic_Accidents.csv')"
      ]
    },
    {
      "cell_type": "markdown",
      "id": "4106d3c7",
      "metadata": {
        "id": "4106d3c7"
      },
      "source": [
        "## Exploratory Data Analysis (EDA)\n",
        "Perform EDA to understand the data better. This involves several steps to summarize the main characteristics, uncover patterns, and establish relationships:\n",
        "* Find the dataset information and observe the datatypes.\n",
        "* Check the shape of the data to understand its structure.\n",
        "* View the the data with various functions to get an initial sense of the data.\n",
        "* Perform summary statistics on the dataset to grasp central tendencies and variability.\n",
        "* Check for duplicated data.\n",
        "* Check for null values.\n",
        "\n",
        "And apply more if needed!\n"
      ]
    },
    {
      "cell_type": "code",
      "source": [
        "df.duplicated().sum()"
      ],
      "metadata": {
        "colab": {
          "base_uri": "https://localhost:8080/"
        },
        "id": "OZl4Yr2-1_Ux",
        "outputId": "0c462e32-9605-4010-dcc2-3e263b6aa0be"
      },
      "id": "OZl4Yr2-1_Ux",
      "execution_count": 120,
      "outputs": [
        {
          "output_type": "execute_result",
          "data": {
            "text/plain": [
              "43"
            ]
          },
          "metadata": {},
          "execution_count": 120
        }
      ]
    },
    {
      "cell_type": "code",
      "source": [
        "df.drop_duplicates(inplace = True)"
      ],
      "metadata": {
        "id": "rmceTun_2JR7"
      },
      "id": "rmceTun_2JR7",
      "execution_count": 121,
      "outputs": []
    },
    {
      "cell_type": "code",
      "source": [
        "df.describe()"
      ],
      "metadata": {
        "colab": {
          "base_uri": "https://localhost:8080/",
          "height": 320
        },
        "id": "7FcvYWmy16wr",
        "outputId": "fdff8c85-befb-43f5-b486-d49f44a81033"
      },
      "id": "7FcvYWmy16wr",
      "execution_count": 122,
      "outputs": [
        {
          "output_type": "execute_result",
          "data": {
            "text/plain": [
              "       Location_Easting_OSGR  Location_Northing_OSGR     Longitude  \\\n",
              "count           51957.000000            5.195700e+04  51957.000000   \n",
              "mean           440301.908732            2.997873e+05     -1.426935   \n",
              "std             95122.549813            1.613581e+05      1.398435   \n",
              "min             98480.000000            1.903000e+04     -6.895268   \n",
              "25%            375572.000000            1.780100e+05     -2.365778   \n",
              "50%            440990.000000            2.669800e+05     -1.390836   \n",
              "75%            523500.000000            3.980800e+05     -0.214421   \n",
              "max            654960.000000            1.203900e+06      1.753632   \n",
              "\n",
              "           Latitude  Police_Force  Accident_Severity  Number_of_Vehicles  \\\n",
              "count  51957.000000  51957.000000       51635.000000        51957.000000   \n",
              "mean      52.586011     30.420675           2.837126            1.834248   \n",
              "std        1.453008     25.544462           0.402625            0.727877   \n",
              "min       50.026153      1.000000           1.000000            1.000000   \n",
              "25%       51.487627      7.000000           3.000000            1.000000   \n",
              "50%       52.293412     30.000000           3.000000            2.000000   \n",
              "75%       53.477266     46.000000           3.000000            2.000000   \n",
              "max       60.714774     98.000000           3.000000           34.000000   \n",
              "\n",
              "       Number_of_Casualties   Day_of_Week  Local_Authority_(District)  \\\n",
              "count          50916.000000  51957.000000                51957.000000   \n",
              "mean               1.354741      4.130531                  349.740786   \n",
              "std                0.855328      1.926296                  259.489618   \n",
              "min                1.000000      1.000000                    1.000000   \n",
              "25%                1.000000      2.000000                  112.000000   \n",
              "50%                1.000000      4.000000                  323.000000   \n",
              "75%                1.000000      6.000000                  530.000000   \n",
              "max               51.000000      7.000000                  941.000000   \n",
              "\n",
              "       1st_Road_Class  1st_Road_Number   Speed_limit  2nd_Road_Class  \\\n",
              "count    51957.000000     51957.000000  51957.000000    51957.000000   \n",
              "mean         4.080605       997.082453     39.152280        2.672441   \n",
              "std          1.428098      1806.325567     14.214414        3.205267   \n",
              "min          1.000000         0.000000     15.000000       -1.000000   \n",
              "25%          3.000000         0.000000     30.000000       -1.000000   \n",
              "50%          4.000000       128.000000     30.000000        3.000000   \n",
              "75%          6.000000       717.000000     50.000000        6.000000   \n",
              "max          6.000000      9999.000000     70.000000        6.000000   \n",
              "\n",
              "       2nd_Road_Number  Urban_or_Rural_Area          Year  \n",
              "count     51957.000000         51869.000000  51957.000000  \n",
              "mean        383.855592             1.359521   2009.399619  \n",
              "std        1303.677163             0.479905      3.007291  \n",
              "min          -1.000000             1.000000   2005.000000  \n",
              "25%           0.000000             1.000000   2006.000000  \n",
              "50%           0.000000             1.000000   2010.000000  \n",
              "75%           0.000000             2.000000   2012.000000  \n",
              "max        9999.000000             3.000000   2014.000000  "
            ],
            "text/html": [
              "\n",
              "  <div id=\"df-202fb31f-46e0-4291-a4d3-1385fdd38ef8\" class=\"colab-df-container\">\n",
              "    <div>\n",
              "<style scoped>\n",
              "    .dataframe tbody tr th:only-of-type {\n",
              "        vertical-align: middle;\n",
              "    }\n",
              "\n",
              "    .dataframe tbody tr th {\n",
              "        vertical-align: top;\n",
              "    }\n",
              "\n",
              "    .dataframe thead th {\n",
              "        text-align: right;\n",
              "    }\n",
              "</style>\n",
              "<table border=\"1\" class=\"dataframe\">\n",
              "  <thead>\n",
              "    <tr style=\"text-align: right;\">\n",
              "      <th></th>\n",
              "      <th>Location_Easting_OSGR</th>\n",
              "      <th>Location_Northing_OSGR</th>\n",
              "      <th>Longitude</th>\n",
              "      <th>Latitude</th>\n",
              "      <th>Police_Force</th>\n",
              "      <th>Accident_Severity</th>\n",
              "      <th>Number_of_Vehicles</th>\n",
              "      <th>Number_of_Casualties</th>\n",
              "      <th>Day_of_Week</th>\n",
              "      <th>Local_Authority_(District)</th>\n",
              "      <th>1st_Road_Class</th>\n",
              "      <th>1st_Road_Number</th>\n",
              "      <th>Speed_limit</th>\n",
              "      <th>2nd_Road_Class</th>\n",
              "      <th>2nd_Road_Number</th>\n",
              "      <th>Urban_or_Rural_Area</th>\n",
              "      <th>Year</th>\n",
              "    </tr>\n",
              "  </thead>\n",
              "  <tbody>\n",
              "    <tr>\n",
              "      <th>count</th>\n",
              "      <td>51957.000000</td>\n",
              "      <td>5.195700e+04</td>\n",
              "      <td>51957.000000</td>\n",
              "      <td>51957.000000</td>\n",
              "      <td>51957.000000</td>\n",
              "      <td>51635.000000</td>\n",
              "      <td>51957.000000</td>\n",
              "      <td>50916.000000</td>\n",
              "      <td>51957.000000</td>\n",
              "      <td>51957.000000</td>\n",
              "      <td>51957.000000</td>\n",
              "      <td>51957.000000</td>\n",
              "      <td>51957.000000</td>\n",
              "      <td>51957.000000</td>\n",
              "      <td>51957.000000</td>\n",
              "      <td>51869.000000</td>\n",
              "      <td>51957.000000</td>\n",
              "    </tr>\n",
              "    <tr>\n",
              "      <th>mean</th>\n",
              "      <td>440301.908732</td>\n",
              "      <td>2.997873e+05</td>\n",
              "      <td>-1.426935</td>\n",
              "      <td>52.586011</td>\n",
              "      <td>30.420675</td>\n",
              "      <td>2.837126</td>\n",
              "      <td>1.834248</td>\n",
              "      <td>1.354741</td>\n",
              "      <td>4.130531</td>\n",
              "      <td>349.740786</td>\n",
              "      <td>4.080605</td>\n",
              "      <td>997.082453</td>\n",
              "      <td>39.152280</td>\n",
              "      <td>2.672441</td>\n",
              "      <td>383.855592</td>\n",
              "      <td>1.359521</td>\n",
              "      <td>2009.399619</td>\n",
              "    </tr>\n",
              "    <tr>\n",
              "      <th>std</th>\n",
              "      <td>95122.549813</td>\n",
              "      <td>1.613581e+05</td>\n",
              "      <td>1.398435</td>\n",
              "      <td>1.453008</td>\n",
              "      <td>25.544462</td>\n",
              "      <td>0.402625</td>\n",
              "      <td>0.727877</td>\n",
              "      <td>0.855328</td>\n",
              "      <td>1.926296</td>\n",
              "      <td>259.489618</td>\n",
              "      <td>1.428098</td>\n",
              "      <td>1806.325567</td>\n",
              "      <td>14.214414</td>\n",
              "      <td>3.205267</td>\n",
              "      <td>1303.677163</td>\n",
              "      <td>0.479905</td>\n",
              "      <td>3.007291</td>\n",
              "    </tr>\n",
              "    <tr>\n",
              "      <th>min</th>\n",
              "      <td>98480.000000</td>\n",
              "      <td>1.903000e+04</td>\n",
              "      <td>-6.895268</td>\n",
              "      <td>50.026153</td>\n",
              "      <td>1.000000</td>\n",
              "      <td>1.000000</td>\n",
              "      <td>1.000000</td>\n",
              "      <td>1.000000</td>\n",
              "      <td>1.000000</td>\n",
              "      <td>1.000000</td>\n",
              "      <td>1.000000</td>\n",
              "      <td>0.000000</td>\n",
              "      <td>15.000000</td>\n",
              "      <td>-1.000000</td>\n",
              "      <td>-1.000000</td>\n",
              "      <td>1.000000</td>\n",
              "      <td>2005.000000</td>\n",
              "    </tr>\n",
              "    <tr>\n",
              "      <th>25%</th>\n",
              "      <td>375572.000000</td>\n",
              "      <td>1.780100e+05</td>\n",
              "      <td>-2.365778</td>\n",
              "      <td>51.487627</td>\n",
              "      <td>7.000000</td>\n",
              "      <td>3.000000</td>\n",
              "      <td>1.000000</td>\n",
              "      <td>1.000000</td>\n",
              "      <td>2.000000</td>\n",
              "      <td>112.000000</td>\n",
              "      <td>3.000000</td>\n",
              "      <td>0.000000</td>\n",
              "      <td>30.000000</td>\n",
              "      <td>-1.000000</td>\n",
              "      <td>0.000000</td>\n",
              "      <td>1.000000</td>\n",
              "      <td>2006.000000</td>\n",
              "    </tr>\n",
              "    <tr>\n",
              "      <th>50%</th>\n",
              "      <td>440990.000000</td>\n",
              "      <td>2.669800e+05</td>\n",
              "      <td>-1.390836</td>\n",
              "      <td>52.293412</td>\n",
              "      <td>30.000000</td>\n",
              "      <td>3.000000</td>\n",
              "      <td>2.000000</td>\n",
              "      <td>1.000000</td>\n",
              "      <td>4.000000</td>\n",
              "      <td>323.000000</td>\n",
              "      <td>4.000000</td>\n",
              "      <td>128.000000</td>\n",
              "      <td>30.000000</td>\n",
              "      <td>3.000000</td>\n",
              "      <td>0.000000</td>\n",
              "      <td>1.000000</td>\n",
              "      <td>2010.000000</td>\n",
              "    </tr>\n",
              "    <tr>\n",
              "      <th>75%</th>\n",
              "      <td>523500.000000</td>\n",
              "      <td>3.980800e+05</td>\n",
              "      <td>-0.214421</td>\n",
              "      <td>53.477266</td>\n",
              "      <td>46.000000</td>\n",
              "      <td>3.000000</td>\n",
              "      <td>2.000000</td>\n",
              "      <td>1.000000</td>\n",
              "      <td>6.000000</td>\n",
              "      <td>530.000000</td>\n",
              "      <td>6.000000</td>\n",
              "      <td>717.000000</td>\n",
              "      <td>50.000000</td>\n",
              "      <td>6.000000</td>\n",
              "      <td>0.000000</td>\n",
              "      <td>2.000000</td>\n",
              "      <td>2012.000000</td>\n",
              "    </tr>\n",
              "    <tr>\n",
              "      <th>max</th>\n",
              "      <td>654960.000000</td>\n",
              "      <td>1.203900e+06</td>\n",
              "      <td>1.753632</td>\n",
              "      <td>60.714774</td>\n",
              "      <td>98.000000</td>\n",
              "      <td>3.000000</td>\n",
              "      <td>34.000000</td>\n",
              "      <td>51.000000</td>\n",
              "      <td>7.000000</td>\n",
              "      <td>941.000000</td>\n",
              "      <td>6.000000</td>\n",
              "      <td>9999.000000</td>\n",
              "      <td>70.000000</td>\n",
              "      <td>6.000000</td>\n",
              "      <td>9999.000000</td>\n",
              "      <td>3.000000</td>\n",
              "      <td>2014.000000</td>\n",
              "    </tr>\n",
              "  </tbody>\n",
              "</table>\n",
              "</div>\n",
              "    <div class=\"colab-df-buttons\">\n",
              "\n",
              "  <div class=\"colab-df-container\">\n",
              "    <button class=\"colab-df-convert\" onclick=\"convertToInteractive('df-202fb31f-46e0-4291-a4d3-1385fdd38ef8')\"\n",
              "            title=\"Convert this dataframe to an interactive table.\"\n",
              "            style=\"display:none;\">\n",
              "\n",
              "  <svg xmlns=\"http://www.w3.org/2000/svg\" height=\"24px\" viewBox=\"0 -960 960 960\">\n",
              "    <path d=\"M120-120v-720h720v720H120Zm60-500h600v-160H180v160Zm220 220h160v-160H400v160Zm0 220h160v-160H400v160ZM180-400h160v-160H180v160Zm440 0h160v-160H620v160ZM180-180h160v-160H180v160Zm440 0h160v-160H620v160Z\"/>\n",
              "  </svg>\n",
              "    </button>\n",
              "\n",
              "  <style>\n",
              "    .colab-df-container {\n",
              "      display:flex;\n",
              "      gap: 12px;\n",
              "    }\n",
              "\n",
              "    .colab-df-convert {\n",
              "      background-color: #E8F0FE;\n",
              "      border: none;\n",
              "      border-radius: 50%;\n",
              "      cursor: pointer;\n",
              "      display: none;\n",
              "      fill: #1967D2;\n",
              "      height: 32px;\n",
              "      padding: 0 0 0 0;\n",
              "      width: 32px;\n",
              "    }\n",
              "\n",
              "    .colab-df-convert:hover {\n",
              "      background-color: #E2EBFA;\n",
              "      box-shadow: 0px 1px 2px rgba(60, 64, 67, 0.3), 0px 1px 3px 1px rgba(60, 64, 67, 0.15);\n",
              "      fill: #174EA6;\n",
              "    }\n",
              "\n",
              "    .colab-df-buttons div {\n",
              "      margin-bottom: 4px;\n",
              "    }\n",
              "\n",
              "    [theme=dark] .colab-df-convert {\n",
              "      background-color: #3B4455;\n",
              "      fill: #D2E3FC;\n",
              "    }\n",
              "\n",
              "    [theme=dark] .colab-df-convert:hover {\n",
              "      background-color: #434B5C;\n",
              "      box-shadow: 0px 1px 3px 1px rgba(0, 0, 0, 0.15);\n",
              "      filter: drop-shadow(0px 1px 2px rgba(0, 0, 0, 0.3));\n",
              "      fill: #FFFFFF;\n",
              "    }\n",
              "  </style>\n",
              "\n",
              "    <script>\n",
              "      const buttonEl =\n",
              "        document.querySelector('#df-202fb31f-46e0-4291-a4d3-1385fdd38ef8 button.colab-df-convert');\n",
              "      buttonEl.style.display =\n",
              "        google.colab.kernel.accessAllowed ? 'block' : 'none';\n",
              "\n",
              "      async function convertToInteractive(key) {\n",
              "        const element = document.querySelector('#df-202fb31f-46e0-4291-a4d3-1385fdd38ef8');\n",
              "        const dataTable =\n",
              "          await google.colab.kernel.invokeFunction('convertToInteractive',\n",
              "                                                    [key], {});\n",
              "        if (!dataTable) return;\n",
              "\n",
              "        const docLinkHtml = 'Like what you see? Visit the ' +\n",
              "          '<a target=\"_blank\" href=https://colab.research.google.com/notebooks/data_table.ipynb>data table notebook</a>'\n",
              "          + ' to learn more about interactive tables.';\n",
              "        element.innerHTML = '';\n",
              "        dataTable['output_type'] = 'display_data';\n",
              "        await google.colab.output.renderOutput(dataTable, element);\n",
              "        const docLink = document.createElement('div');\n",
              "        docLink.innerHTML = docLinkHtml;\n",
              "        element.appendChild(docLink);\n",
              "      }\n",
              "    </script>\n",
              "  </div>\n",
              "\n",
              "\n",
              "<div id=\"df-e453863b-32ae-4fa0-b834-5a78e593be58\">\n",
              "  <button class=\"colab-df-quickchart\" onclick=\"quickchart('df-e453863b-32ae-4fa0-b834-5a78e593be58')\"\n",
              "            title=\"Suggest charts\"\n",
              "            style=\"display:none;\">\n",
              "\n",
              "<svg xmlns=\"http://www.w3.org/2000/svg\" height=\"24px\"viewBox=\"0 0 24 24\"\n",
              "     width=\"24px\">\n",
              "    <g>\n",
              "        <path d=\"M19 3H5c-1.1 0-2 .9-2 2v14c0 1.1.9 2 2 2h14c1.1 0 2-.9 2-2V5c0-1.1-.9-2-2-2zM9 17H7v-7h2v7zm4 0h-2V7h2v10zm4 0h-2v-4h2v4z\"/>\n",
              "    </g>\n",
              "</svg>\n",
              "  </button>\n",
              "\n",
              "<style>\n",
              "  .colab-df-quickchart {\n",
              "      --bg-color: #E8F0FE;\n",
              "      --fill-color: #1967D2;\n",
              "      --hover-bg-color: #E2EBFA;\n",
              "      --hover-fill-color: #174EA6;\n",
              "      --disabled-fill-color: #AAA;\n",
              "      --disabled-bg-color: #DDD;\n",
              "  }\n",
              "\n",
              "  [theme=dark] .colab-df-quickchart {\n",
              "      --bg-color: #3B4455;\n",
              "      --fill-color: #D2E3FC;\n",
              "      --hover-bg-color: #434B5C;\n",
              "      --hover-fill-color: #FFFFFF;\n",
              "      --disabled-bg-color: #3B4455;\n",
              "      --disabled-fill-color: #666;\n",
              "  }\n",
              "\n",
              "  .colab-df-quickchart {\n",
              "    background-color: var(--bg-color);\n",
              "    border: none;\n",
              "    border-radius: 50%;\n",
              "    cursor: pointer;\n",
              "    display: none;\n",
              "    fill: var(--fill-color);\n",
              "    height: 32px;\n",
              "    padding: 0;\n",
              "    width: 32px;\n",
              "  }\n",
              "\n",
              "  .colab-df-quickchart:hover {\n",
              "    background-color: var(--hover-bg-color);\n",
              "    box-shadow: 0 1px 2px rgba(60, 64, 67, 0.3), 0 1px 3px 1px rgba(60, 64, 67, 0.15);\n",
              "    fill: var(--button-hover-fill-color);\n",
              "  }\n",
              "\n",
              "  .colab-df-quickchart-complete:disabled,\n",
              "  .colab-df-quickchart-complete:disabled:hover {\n",
              "    background-color: var(--disabled-bg-color);\n",
              "    fill: var(--disabled-fill-color);\n",
              "    box-shadow: none;\n",
              "  }\n",
              "\n",
              "  .colab-df-spinner {\n",
              "    border: 2px solid var(--fill-color);\n",
              "    border-color: transparent;\n",
              "    border-bottom-color: var(--fill-color);\n",
              "    animation:\n",
              "      spin 1s steps(1) infinite;\n",
              "  }\n",
              "\n",
              "  @keyframes spin {\n",
              "    0% {\n",
              "      border-color: transparent;\n",
              "      border-bottom-color: var(--fill-color);\n",
              "      border-left-color: var(--fill-color);\n",
              "    }\n",
              "    20% {\n",
              "      border-color: transparent;\n",
              "      border-left-color: var(--fill-color);\n",
              "      border-top-color: var(--fill-color);\n",
              "    }\n",
              "    30% {\n",
              "      border-color: transparent;\n",
              "      border-left-color: var(--fill-color);\n",
              "      border-top-color: var(--fill-color);\n",
              "      border-right-color: var(--fill-color);\n",
              "    }\n",
              "    40% {\n",
              "      border-color: transparent;\n",
              "      border-right-color: var(--fill-color);\n",
              "      border-top-color: var(--fill-color);\n",
              "    }\n",
              "    60% {\n",
              "      border-color: transparent;\n",
              "      border-right-color: var(--fill-color);\n",
              "    }\n",
              "    80% {\n",
              "      border-color: transparent;\n",
              "      border-right-color: var(--fill-color);\n",
              "      border-bottom-color: var(--fill-color);\n",
              "    }\n",
              "    90% {\n",
              "      border-color: transparent;\n",
              "      border-bottom-color: var(--fill-color);\n",
              "    }\n",
              "  }\n",
              "</style>\n",
              "\n",
              "  <script>\n",
              "    async function quickchart(key) {\n",
              "      const quickchartButtonEl =\n",
              "        document.querySelector('#' + key + ' button');\n",
              "      quickchartButtonEl.disabled = true;  // To prevent multiple clicks.\n",
              "      quickchartButtonEl.classList.add('colab-df-spinner');\n",
              "      try {\n",
              "        const charts = await google.colab.kernel.invokeFunction(\n",
              "            'suggestCharts', [key], {});\n",
              "      } catch (error) {\n",
              "        console.error('Error during call to suggestCharts:', error);\n",
              "      }\n",
              "      quickchartButtonEl.classList.remove('colab-df-spinner');\n",
              "      quickchartButtonEl.classList.add('colab-df-quickchart-complete');\n",
              "    }\n",
              "    (() => {\n",
              "      let quickchartButtonEl =\n",
              "        document.querySelector('#df-e453863b-32ae-4fa0-b834-5a78e593be58 button');\n",
              "      quickchartButtonEl.style.display =\n",
              "        google.colab.kernel.accessAllowed ? 'block' : 'none';\n",
              "    })();\n",
              "  </script>\n",
              "</div>\n",
              "\n",
              "    </div>\n",
              "  </div>\n"
            ],
            "application/vnd.google.colaboratory.intrinsic+json": {
              "type": "dataframe",
              "summary": "{\n  \"name\": \"df\",\n  \"rows\": 8,\n  \"fields\": [\n    {\n      \"column\": \"Location_Easting_OSGR\",\n      \"properties\": {\n        \"dtype\": \"number\",\n        \"std\": 225347.7486215488,\n        \"min\": 51957.0,\n        \"max\": 654960.0,\n        \"num_unique_values\": 8,\n        \"samples\": [\n          440301.9087322209,\n          440990.0,\n          51957.0\n        ],\n        \"semantic_type\": \"\",\n        \"description\": \"\"\n      }\n    },\n    {\n      \"column\": \"Location_Northing_OSGR\",\n      \"properties\": {\n        \"dtype\": \"number\",\n        \"std\": 377644.60778439173,\n        \"min\": 19030.0,\n        \"max\": 1203900.0,\n        \"num_unique_values\": 8,\n        \"samples\": [\n          299787.2664703505,\n          266980.0,\n          51957.0\n        ],\n        \"semantic_type\": \"\",\n        \"description\": \"\"\n      }\n    },\n    {\n      \"column\": \"Longitude\",\n      \"properties\": {\n        \"dtype\": \"number\",\n        \"std\": 18370.035409325854,\n        \"min\": -6.895268,\n        \"max\": 51957.0,\n        \"num_unique_values\": 8,\n        \"samples\": [\n          -1.426935325904113,\n          -1.390836,\n          51957.0\n        ],\n        \"semantic_type\": \"\",\n        \"description\": \"\"\n      }\n    },\n    {\n      \"column\": \"Latitude\",\n      \"properties\": {\n        \"dtype\": \"number\",\n        \"std\": 18353.317413745353,\n        \"min\": 1.4530084519214617,\n        \"max\": 51957.0,\n        \"num_unique_values\": 8,\n        \"samples\": [\n          52.58601133073503,\n          52.293412,\n          51957.0\n        ],\n        \"semantic_type\": \"\",\n        \"description\": \"\"\n      }\n    },\n    {\n      \"column\": \"Police_Force\",\n      \"properties\": {\n        \"dtype\": \"number\",\n        \"std\": 18357.578422381986,\n        \"min\": 1.0,\n        \"max\": 51957.0,\n        \"num_unique_values\": 8,\n        \"samples\": [\n          30.420674788767634,\n          30.0,\n          51957.0\n        ],\n        \"semantic_type\": \"\",\n        \"description\": \"\"\n      }\n    },\n    {\n      \"column\": \"Accident_Severity\",\n      \"properties\": {\n        \"dtype\": \"number\",\n        \"std\": 18254.909121478286,\n        \"min\": 0.4026250554367789,\n        \"max\": 51635.0,\n        \"num_unique_values\": 5,\n        \"samples\": [\n          2.8371259804396245,\n          3.0,\n          0.4026250554367789\n        ],\n        \"semantic_type\": \"\",\n        \"description\": \"\"\n      }\n    },\n    {\n      \"column\": \"Number_of_Vehicles\",\n      \"properties\": {\n        \"dtype\": \"number\",\n        \"std\": 18367.42734630279,\n        \"min\": 0.727876935401551,\n        \"max\": 51957.0,\n        \"num_unique_values\": 6,\n        \"samples\": [\n          51957.0,\n          1.8342475508593645,\n          34.0\n        ],\n        \"semantic_type\": \"\",\n        \"description\": \"\"\n      }\n    },\n    {\n      \"column\": \"Number_of_Casualties\",\n      \"properties\": {\n        \"dtype\": \"number\",\n        \"std\": 17998.64338331375,\n        \"min\": 0.855327597355023,\n        \"max\": 50916.0,\n        \"num_unique_values\": 5,\n        \"samples\": [\n          1.3547411422735487,\n          51.0,\n          0.855327597355023\n        ],\n        \"semantic_type\": \"\",\n        \"description\": \"\"\n      }\n    },\n    {\n      \"column\": \"Day_of_Week\",\n      \"properties\": {\n        \"dtype\": \"number\",\n        \"std\": 18368.25756235644,\n        \"min\": 1.0,\n        \"max\": 51957.0,\n        \"num_unique_values\": 8,\n        \"samples\": [\n          4.130531016032489,\n          4.0,\n          51957.0\n        ],\n        \"semantic_type\": \"\",\n        \"description\": \"\"\n      }\n    },\n    {\n      \"column\": \"Local_Authority_(District)\",\n      \"properties\": {\n        \"dtype\": \"number\",\n        \"std\": 18244.710206556796,\n        \"min\": 1.0,\n        \"max\": 51957.0,\n        \"num_unique_values\": 8,\n        \"samples\": [\n          349.74078564967186,\n          323.0,\n          51957.0\n        ],\n        \"semantic_type\": \"\",\n        \"description\": \"\"\n      }\n    },\n    {\n      \"column\": \"1st_Road_Class\",\n      \"properties\": {\n        \"dtype\": \"number\",\n        \"std\": 18368.28522326946,\n        \"min\": 1.0,\n        \"max\": 51957.0,\n        \"num_unique_values\": 7,\n        \"samples\": [\n          51957.0,\n          4.080605115768809,\n          4.0\n        ],\n        \"semantic_type\": \"\",\n        \"description\": \"\"\n      }\n    },\n    {\n      \"column\": \"1st_Road_Number\",\n      \"properties\": {\n        \"dtype\": \"number\",\n        \"std\": 17993.27260997586,\n        \"min\": 0.0,\n        \"max\": 51957.0,\n        \"num_unique_values\": 7,\n        \"samples\": [\n          51957.0,\n          997.0824527975057,\n          717.0\n        ],\n        \"semantic_type\": \"\",\n        \"description\": \"\"\n      }\n    },\n    {\n      \"column\": \"Speed_limit\",\n      \"properties\": {\n        \"dtype\": \"number\",\n        \"std\": 18357.03823760092,\n        \"min\": 14.214413962384883,\n        \"max\": 51957.0,\n        \"num_unique_values\": 7,\n        \"samples\": [\n          51957.0,\n          39.15227976980965,\n          50.0\n        ],\n        \"semantic_type\": \"\",\n        \"description\": \"\"\n      }\n    },\n    {\n      \"column\": \"2nd_Road_Class\",\n      \"properties\": {\n        \"dtype\": \"number\",\n        \"std\": 18368.620239340806,\n        \"min\": -1.0,\n        \"max\": 51957.0,\n        \"num_unique_values\": 6,\n        \"samples\": [\n          51957.0,\n          2.6724406720942318,\n          6.0\n        ],\n        \"semantic_type\": \"\",\n        \"description\": \"\"\n      }\n    },\n    {\n      \"column\": \"2nd_Road_Number\",\n      \"properties\": {\n        \"dtype\": \"number\",\n        \"std\": 18107.06363087972,\n        \"min\": -1.0,\n        \"max\": 51957.0,\n        \"num_unique_values\": 6,\n        \"samples\": [\n          51957.0,\n          383.8555921242566,\n          9999.0\n        ],\n        \"semantic_type\": \"\",\n        \"description\": \"\"\n      }\n    },\n    {\n      \"column\": \"Urban_or_Rural_Area\",\n      \"properties\": {\n        \"dtype\": \"number\",\n        \"std\": 18337.963867170205,\n        \"min\": 0.47990486336104915,\n        \"max\": 51869.0,\n        \"num_unique_values\": 6,\n        \"samples\": [\n          51869.0,\n          1.3595211012358055,\n          3.0\n        ],\n        \"semantic_type\": \"\",\n        \"description\": \"\"\n      }\n    },\n    {\n      \"column\": \"Year\",\n      \"properties\": {\n        \"dtype\": \"number\",\n        \"std\": 17774.353521139234,\n        \"min\": 3.007291266776951,\n        \"max\": 51957.0,\n        \"num_unique_values\": 8,\n        \"samples\": [\n          2009.3996189156417,\n          2010.0,\n          51957.0\n        ],\n        \"semantic_type\": \"\",\n        \"description\": \"\"\n      }\n    }\n  ]\n}"
            }
          },
          "metadata": {},
          "execution_count": 122
        }
      ]
    },
    {
      "cell_type": "code",
      "source": [
        "df.shape"
      ],
      "metadata": {
        "colab": {
          "base_uri": "https://localhost:8080/"
        },
        "id": "XMEApd2r13c9",
        "outputId": "ca728fda-2fea-4e67-b800-927646c067e3"
      },
      "id": "XMEApd2r13c9",
      "execution_count": 123,
      "outputs": [
        {
          "output_type": "execute_result",
          "data": {
            "text/plain": [
              "(51957, 26)"
            ]
          },
          "metadata": {},
          "execution_count": 123
        }
      ]
    },
    {
      "cell_type": "code",
      "execution_count": 124,
      "id": "a49012c4",
      "metadata": {
        "colab": {
          "base_uri": "https://localhost:8080/"
        },
        "id": "a49012c4",
        "outputId": "5efb0c50-0664-4b03-b49b-31fd68a491ed"
      },
      "outputs": [
        {
          "output_type": "stream",
          "name": "stdout",
          "text": [
            "<class 'pandas.core.frame.DataFrame'>\n",
            "Index: 51957 entries, 0 to 51999\n",
            "Data columns (total 26 columns):\n",
            " #   Column                                       Non-Null Count  Dtype  \n",
            "---  ------                                       --------------  -----  \n",
            " 0   Location_Easting_OSGR                        51957 non-null  float64\n",
            " 1   Location_Northing_OSGR                       51957 non-null  float64\n",
            " 2   Longitude                                    51957 non-null  float64\n",
            " 3   Latitude                                     51957 non-null  float64\n",
            " 4   Police_Force                                 51957 non-null  int64  \n",
            " 5   Accident_Severity                            51635 non-null  float64\n",
            " 6   Number_of_Vehicles                           51957 non-null  int64  \n",
            " 7   Number_of_Casualties                         50916 non-null  float64\n",
            " 8   Date                                         51957 non-null  object \n",
            " 9   Day_of_Week                                  51957 non-null  int64  \n",
            " 10  Local_Authority_(District)                   51957 non-null  int64  \n",
            " 11  Local_Authority_(Highway)                    51957 non-null  object \n",
            " 12  1st_Road_Class                               51957 non-null  int64  \n",
            " 13  1st_Road_Number                              51957 non-null  int64  \n",
            " 14  Road_Type                                    51957 non-null  object \n",
            " 15  Speed_limit                                  51957 non-null  int64  \n",
            " 16  2nd_Road_Class                               51957 non-null  int64  \n",
            " 17  2nd_Road_Number                              51957 non-null  int64  \n",
            " 18  Pedestrian_Crossing-Human_Control            51957 non-null  object \n",
            " 19  Pedestrian_Crossing-Physical_Facilities      51957 non-null  object \n",
            " 20  Light_Conditions                             51413 non-null  object \n",
            " 21  Weather_Conditions                           51957 non-null  object \n",
            " 22  Road_Surface_Conditions                      51957 non-null  object \n",
            " 23  Urban_or_Rural_Area                          51869 non-null  float64\n",
            " 24  Did_Police_Officer_Attend_Scene_of_Accident  51957 non-null  object \n",
            " 25  Year                                         51957 non-null  int64  \n",
            "dtypes: float64(7), int64(10), object(9)\n",
            "memory usage: 10.7+ MB\n"
          ]
        }
      ],
      "source": [
        "df.info()"
      ]
    },
    {
      "cell_type": "code",
      "source": [
        "df.select_dtypes(include = ['object']).value_counts()"
      ],
      "metadata": {
        "colab": {
          "base_uri": "https://localhost:8080/",
          "height": 700
        },
        "id": "yD2V1rBuBW-h",
        "outputId": "0026767d-10e5-4551-a009-da63b898105f"
      },
      "id": "yD2V1rBuBW-h",
      "execution_count": 125,
      "outputs": [
        {
          "output_type": "execute_result",
          "data": {
            "text/plain": [
              "Date        Local_Authority_(Highway)  Road_Type           Pedestrian_Crossing-Human_Control  Pedestrian_Crossing-Physical_Facilities  Light_Conditions                Weather_Conditions          Road_Surface_Conditions  Did_Police_Officer_Attend_Scene_of_Accident\n",
              "05/07/2006  E10000017                  Single carriageway  None within 50 metres              No physical crossing within 50 meters    Daylight: Street light present  Fine without high winds     Dry                      Yes                                            3\n",
              "22/09/2006  E10000019                  Single carriageway  None within 50 metres              No physical crossing within 50 meters    Daylight: Street light present  Raining without high winds  Wet/Damp                 Yes                                            3\n",
              "13/06/2010  E10000016                  Single carriageway  None within 50 metres              No physical crossing within 50 meters    Daylight: Street light present  Fine without high winds     Dry                      Yes                                            3\n",
              "30/06/2010  E10000021                  Single carriageway  None within 50 metres              No physical crossing within 50 meters    Daylight: Street light present  Fine without high winds     Dry                      Yes                                            3\n",
              "05/09/2012  E10000017                  Single carriageway  None within 50 metres              No physical crossing within 50 meters    Daylight: Street light present  Fine without high winds     Dry                      Yes                                            3\n",
              "                                                                                                                                                                                                                                                                          ..\n",
              "11/02/2006  E10000016                  Single carriageway  None within 50 metres              non-junction pedestrian crossing         Daylight: Street light present  Fine without high winds     Dry                      No                                             1\n",
              "            E10000023                  Single carriageway  None within 50 metres              No physical crossing within 50 meters    Darkeness: No street lighting   Fine without high winds     Dry                      Yes                                            1\n",
              "            E10000028                  Single carriageway  None within 50 metres              No physical crossing within 50 meters    Darkeness: No street lighting   Raining without high winds  Wet/Damp                 Yes                                            1\n",
              "            S12000040                  Single carriageway  None within 50 metres              No physical crossing within 50 meters    Daylight: Street light present  Raining without high winds  Wet/Damp                 Yes                                            1\n",
              "31/12/2014  E10000016                  Single carriageway  None within 50 metres              No physical crossing within 50 meters    Darkeness: No street lighting   Fine without high winds     Dry                      Yes                                            1\n",
              "Name: count, Length: 50917, dtype: int64"
            ],
            "text/html": [
              "<div>\n",
              "<style scoped>\n",
              "    .dataframe tbody tr th:only-of-type {\n",
              "        vertical-align: middle;\n",
              "    }\n",
              "\n",
              "    .dataframe tbody tr th {\n",
              "        vertical-align: top;\n",
              "    }\n",
              "\n",
              "    .dataframe thead th {\n",
              "        text-align: right;\n",
              "    }\n",
              "</style>\n",
              "<table border=\"1\" class=\"dataframe\">\n",
              "  <thead>\n",
              "    <tr style=\"text-align: right;\">\n",
              "      <th></th>\n",
              "      <th></th>\n",
              "      <th></th>\n",
              "      <th></th>\n",
              "      <th></th>\n",
              "      <th></th>\n",
              "      <th></th>\n",
              "      <th></th>\n",
              "      <th></th>\n",
              "      <th>count</th>\n",
              "    </tr>\n",
              "    <tr>\n",
              "      <th>Date</th>\n",
              "      <th>Local_Authority_(Highway)</th>\n",
              "      <th>Road_Type</th>\n",
              "      <th>Pedestrian_Crossing-Human_Control</th>\n",
              "      <th>Pedestrian_Crossing-Physical_Facilities</th>\n",
              "      <th>Light_Conditions</th>\n",
              "      <th>Weather_Conditions</th>\n",
              "      <th>Road_Surface_Conditions</th>\n",
              "      <th>Did_Police_Officer_Attend_Scene_of_Accident</th>\n",
              "      <th></th>\n",
              "    </tr>\n",
              "  </thead>\n",
              "  <tbody>\n",
              "    <tr>\n",
              "      <th>05/07/2006</th>\n",
              "      <th>E10000017</th>\n",
              "      <th>Single carriageway</th>\n",
              "      <th>None within 50 metres</th>\n",
              "      <th>No physical crossing within 50 meters</th>\n",
              "      <th>Daylight: Street light present</th>\n",
              "      <th>Fine without high winds</th>\n",
              "      <th>Dry</th>\n",
              "      <th>Yes</th>\n",
              "      <td>3</td>\n",
              "    </tr>\n",
              "    <tr>\n",
              "      <th>22/09/2006</th>\n",
              "      <th>E10000019</th>\n",
              "      <th>Single carriageway</th>\n",
              "      <th>None within 50 metres</th>\n",
              "      <th>No physical crossing within 50 meters</th>\n",
              "      <th>Daylight: Street light present</th>\n",
              "      <th>Raining without high winds</th>\n",
              "      <th>Wet/Damp</th>\n",
              "      <th>Yes</th>\n",
              "      <td>3</td>\n",
              "    </tr>\n",
              "    <tr>\n",
              "      <th>13/06/2010</th>\n",
              "      <th>E10000016</th>\n",
              "      <th>Single carriageway</th>\n",
              "      <th>None within 50 metres</th>\n",
              "      <th>No physical crossing within 50 meters</th>\n",
              "      <th>Daylight: Street light present</th>\n",
              "      <th>Fine without high winds</th>\n",
              "      <th>Dry</th>\n",
              "      <th>Yes</th>\n",
              "      <td>3</td>\n",
              "    </tr>\n",
              "    <tr>\n",
              "      <th>30/06/2010</th>\n",
              "      <th>E10000021</th>\n",
              "      <th>Single carriageway</th>\n",
              "      <th>None within 50 metres</th>\n",
              "      <th>No physical crossing within 50 meters</th>\n",
              "      <th>Daylight: Street light present</th>\n",
              "      <th>Fine without high winds</th>\n",
              "      <th>Dry</th>\n",
              "      <th>Yes</th>\n",
              "      <td>3</td>\n",
              "    </tr>\n",
              "    <tr>\n",
              "      <th>05/09/2012</th>\n",
              "      <th>E10000017</th>\n",
              "      <th>Single carriageway</th>\n",
              "      <th>None within 50 metres</th>\n",
              "      <th>No physical crossing within 50 meters</th>\n",
              "      <th>Daylight: Street light present</th>\n",
              "      <th>Fine without high winds</th>\n",
              "      <th>Dry</th>\n",
              "      <th>Yes</th>\n",
              "      <td>3</td>\n",
              "    </tr>\n",
              "    <tr>\n",
              "      <th>...</th>\n",
              "      <th>...</th>\n",
              "      <th>...</th>\n",
              "      <th>...</th>\n",
              "      <th>...</th>\n",
              "      <th>...</th>\n",
              "      <th>...</th>\n",
              "      <th>...</th>\n",
              "      <th>...</th>\n",
              "      <td>...</td>\n",
              "    </tr>\n",
              "    <tr>\n",
              "      <th rowspan=\"4\" valign=\"top\">11/02/2006</th>\n",
              "      <th>E10000016</th>\n",
              "      <th>Single carriageway</th>\n",
              "      <th>None within 50 metres</th>\n",
              "      <th>non-junction pedestrian crossing</th>\n",
              "      <th>Daylight: Street light present</th>\n",
              "      <th>Fine without high winds</th>\n",
              "      <th>Dry</th>\n",
              "      <th>No</th>\n",
              "      <td>1</td>\n",
              "    </tr>\n",
              "    <tr>\n",
              "      <th>E10000023</th>\n",
              "      <th>Single carriageway</th>\n",
              "      <th>None within 50 metres</th>\n",
              "      <th>No physical crossing within 50 meters</th>\n",
              "      <th>Darkeness: No street lighting</th>\n",
              "      <th>Fine without high winds</th>\n",
              "      <th>Dry</th>\n",
              "      <th>Yes</th>\n",
              "      <td>1</td>\n",
              "    </tr>\n",
              "    <tr>\n",
              "      <th>E10000028</th>\n",
              "      <th>Single carriageway</th>\n",
              "      <th>None within 50 metres</th>\n",
              "      <th>No physical crossing within 50 meters</th>\n",
              "      <th>Darkeness: No street lighting</th>\n",
              "      <th>Raining without high winds</th>\n",
              "      <th>Wet/Damp</th>\n",
              "      <th>Yes</th>\n",
              "      <td>1</td>\n",
              "    </tr>\n",
              "    <tr>\n",
              "      <th>S12000040</th>\n",
              "      <th>Single carriageway</th>\n",
              "      <th>None within 50 metres</th>\n",
              "      <th>No physical crossing within 50 meters</th>\n",
              "      <th>Daylight: Street light present</th>\n",
              "      <th>Raining without high winds</th>\n",
              "      <th>Wet/Damp</th>\n",
              "      <th>Yes</th>\n",
              "      <td>1</td>\n",
              "    </tr>\n",
              "    <tr>\n",
              "      <th>31/12/2014</th>\n",
              "      <th>E10000016</th>\n",
              "      <th>Single carriageway</th>\n",
              "      <th>None within 50 metres</th>\n",
              "      <th>No physical crossing within 50 meters</th>\n",
              "      <th>Darkeness: No street lighting</th>\n",
              "      <th>Fine without high winds</th>\n",
              "      <th>Dry</th>\n",
              "      <th>Yes</th>\n",
              "      <td>1</td>\n",
              "    </tr>\n",
              "  </tbody>\n",
              "</table>\n",
              "<p>50917 rows × 1 columns</p>\n",
              "</div><br><label><b>dtype:</b> int64</label>"
            ]
          },
          "metadata": {},
          "execution_count": 125
        }
      ]
    },
    {
      "cell_type": "code",
      "source": [
        "df.isna().sum()"
      ],
      "metadata": {
        "colab": {
          "base_uri": "https://localhost:8080/",
          "height": 899
        },
        "id": "lcongSgy2TxK",
        "outputId": "58487859-f03b-44a7-f44e-ffa714c10fd3"
      },
      "id": "lcongSgy2TxK",
      "execution_count": 126,
      "outputs": [
        {
          "output_type": "execute_result",
          "data": {
            "text/plain": [
              "Location_Easting_OSGR                             0\n",
              "Location_Northing_OSGR                            0\n",
              "Longitude                                         0\n",
              "Latitude                                          0\n",
              "Police_Force                                      0\n",
              "Accident_Severity                               322\n",
              "Number_of_Vehicles                                0\n",
              "Number_of_Casualties                           1041\n",
              "Date                                              0\n",
              "Day_of_Week                                       0\n",
              "Local_Authority_(District)                        0\n",
              "Local_Authority_(Highway)                         0\n",
              "1st_Road_Class                                    0\n",
              "1st_Road_Number                                   0\n",
              "Road_Type                                         0\n",
              "Speed_limit                                       0\n",
              "2nd_Road_Class                                    0\n",
              "2nd_Road_Number                                   0\n",
              "Pedestrian_Crossing-Human_Control                 0\n",
              "Pedestrian_Crossing-Physical_Facilities           0\n",
              "Light_Conditions                                544\n",
              "Weather_Conditions                                0\n",
              "Road_Surface_Conditions                           0\n",
              "Urban_or_Rural_Area                              88\n",
              "Did_Police_Officer_Attend_Scene_of_Accident       0\n",
              "Year                                              0\n",
              "dtype: int64"
            ],
            "text/html": [
              "<div>\n",
              "<style scoped>\n",
              "    .dataframe tbody tr th:only-of-type {\n",
              "        vertical-align: middle;\n",
              "    }\n",
              "\n",
              "    .dataframe tbody tr th {\n",
              "        vertical-align: top;\n",
              "    }\n",
              "\n",
              "    .dataframe thead th {\n",
              "        text-align: right;\n",
              "    }\n",
              "</style>\n",
              "<table border=\"1\" class=\"dataframe\">\n",
              "  <thead>\n",
              "    <tr style=\"text-align: right;\">\n",
              "      <th></th>\n",
              "      <th>0</th>\n",
              "    </tr>\n",
              "  </thead>\n",
              "  <tbody>\n",
              "    <tr>\n",
              "      <th>Location_Easting_OSGR</th>\n",
              "      <td>0</td>\n",
              "    </tr>\n",
              "    <tr>\n",
              "      <th>Location_Northing_OSGR</th>\n",
              "      <td>0</td>\n",
              "    </tr>\n",
              "    <tr>\n",
              "      <th>Longitude</th>\n",
              "      <td>0</td>\n",
              "    </tr>\n",
              "    <tr>\n",
              "      <th>Latitude</th>\n",
              "      <td>0</td>\n",
              "    </tr>\n",
              "    <tr>\n",
              "      <th>Police_Force</th>\n",
              "      <td>0</td>\n",
              "    </tr>\n",
              "    <tr>\n",
              "      <th>Accident_Severity</th>\n",
              "      <td>322</td>\n",
              "    </tr>\n",
              "    <tr>\n",
              "      <th>Number_of_Vehicles</th>\n",
              "      <td>0</td>\n",
              "    </tr>\n",
              "    <tr>\n",
              "      <th>Number_of_Casualties</th>\n",
              "      <td>1041</td>\n",
              "    </tr>\n",
              "    <tr>\n",
              "      <th>Date</th>\n",
              "      <td>0</td>\n",
              "    </tr>\n",
              "    <tr>\n",
              "      <th>Day_of_Week</th>\n",
              "      <td>0</td>\n",
              "    </tr>\n",
              "    <tr>\n",
              "      <th>Local_Authority_(District)</th>\n",
              "      <td>0</td>\n",
              "    </tr>\n",
              "    <tr>\n",
              "      <th>Local_Authority_(Highway)</th>\n",
              "      <td>0</td>\n",
              "    </tr>\n",
              "    <tr>\n",
              "      <th>1st_Road_Class</th>\n",
              "      <td>0</td>\n",
              "    </tr>\n",
              "    <tr>\n",
              "      <th>1st_Road_Number</th>\n",
              "      <td>0</td>\n",
              "    </tr>\n",
              "    <tr>\n",
              "      <th>Road_Type</th>\n",
              "      <td>0</td>\n",
              "    </tr>\n",
              "    <tr>\n",
              "      <th>Speed_limit</th>\n",
              "      <td>0</td>\n",
              "    </tr>\n",
              "    <tr>\n",
              "      <th>2nd_Road_Class</th>\n",
              "      <td>0</td>\n",
              "    </tr>\n",
              "    <tr>\n",
              "      <th>2nd_Road_Number</th>\n",
              "      <td>0</td>\n",
              "    </tr>\n",
              "    <tr>\n",
              "      <th>Pedestrian_Crossing-Human_Control</th>\n",
              "      <td>0</td>\n",
              "    </tr>\n",
              "    <tr>\n",
              "      <th>Pedestrian_Crossing-Physical_Facilities</th>\n",
              "      <td>0</td>\n",
              "    </tr>\n",
              "    <tr>\n",
              "      <th>Light_Conditions</th>\n",
              "      <td>544</td>\n",
              "    </tr>\n",
              "    <tr>\n",
              "      <th>Weather_Conditions</th>\n",
              "      <td>0</td>\n",
              "    </tr>\n",
              "    <tr>\n",
              "      <th>Road_Surface_Conditions</th>\n",
              "      <td>0</td>\n",
              "    </tr>\n",
              "    <tr>\n",
              "      <th>Urban_or_Rural_Area</th>\n",
              "      <td>88</td>\n",
              "    </tr>\n",
              "    <tr>\n",
              "      <th>Did_Police_Officer_Attend_Scene_of_Accident</th>\n",
              "      <td>0</td>\n",
              "    </tr>\n",
              "    <tr>\n",
              "      <th>Year</th>\n",
              "      <td>0</td>\n",
              "    </tr>\n",
              "  </tbody>\n",
              "</table>\n",
              "</div><br><label><b>dtype:</b> int64</label>"
            ]
          },
          "metadata": {},
          "execution_count": 126
        }
      ]
    },
    {
      "cell_type": "markdown",
      "id": "b0d002cd",
      "metadata": {
        "id": "b0d002cd"
      },
      "source": [
        "## Data Preprocessing\n",
        "Do what you think you need such as:\n",
        "* Remove the outliers\n",
        "* Impute missing data\n",
        "* Scale the data\n",
        "* Reduce dimentions using PCA\n",
        "* Implement One-Hot Encoding for nominal categorical variables."
      ]
    },
    {
      "cell_type": "code",
      "source": [
        "SS = StandardScaler()\n",
        "SS.fit(df.select_dtypes(include =['int64', 'float64' ]))"
      ],
      "metadata": {
        "colab": {
          "base_uri": "https://localhost:8080/",
          "height": 74
        },
        "id": "5ISEy1vp5CM5",
        "outputId": "426289cd-f7e2-485f-af84-d9c621ade0d2"
      },
      "id": "5ISEy1vp5CM5",
      "execution_count": 127,
      "outputs": [
        {
          "output_type": "execute_result",
          "data": {
            "text/plain": [
              "StandardScaler()"
            ],
            "text/html": [
              "<style>#sk-container-id-9 {color: black;}#sk-container-id-9 pre{padding: 0;}#sk-container-id-9 div.sk-toggleable {background-color: white;}#sk-container-id-9 label.sk-toggleable__label {cursor: pointer;display: block;width: 100%;margin-bottom: 0;padding: 0.3em;box-sizing: border-box;text-align: center;}#sk-container-id-9 label.sk-toggleable__label-arrow:before {content: \"▸\";float: left;margin-right: 0.25em;color: #696969;}#sk-container-id-9 label.sk-toggleable__label-arrow:hover:before {color: black;}#sk-container-id-9 div.sk-estimator:hover label.sk-toggleable__label-arrow:before {color: black;}#sk-container-id-9 div.sk-toggleable__content {max-height: 0;max-width: 0;overflow: hidden;text-align: left;background-color: #f0f8ff;}#sk-container-id-9 div.sk-toggleable__content pre {margin: 0.2em;color: black;border-radius: 0.25em;background-color: #f0f8ff;}#sk-container-id-9 input.sk-toggleable__control:checked~div.sk-toggleable__content {max-height: 200px;max-width: 100%;overflow: auto;}#sk-container-id-9 input.sk-toggleable__control:checked~label.sk-toggleable__label-arrow:before {content: \"▾\";}#sk-container-id-9 div.sk-estimator input.sk-toggleable__control:checked~label.sk-toggleable__label {background-color: #d4ebff;}#sk-container-id-9 div.sk-label input.sk-toggleable__control:checked~label.sk-toggleable__label {background-color: #d4ebff;}#sk-container-id-9 input.sk-hidden--visually {border: 0;clip: rect(1px 1px 1px 1px);clip: rect(1px, 1px, 1px, 1px);height: 1px;margin: -1px;overflow: hidden;padding: 0;position: absolute;width: 1px;}#sk-container-id-9 div.sk-estimator {font-family: monospace;background-color: #f0f8ff;border: 1px dotted black;border-radius: 0.25em;box-sizing: border-box;margin-bottom: 0.5em;}#sk-container-id-9 div.sk-estimator:hover {background-color: #d4ebff;}#sk-container-id-9 div.sk-parallel-item::after {content: \"\";width: 100%;border-bottom: 1px solid gray;flex-grow: 1;}#sk-container-id-9 div.sk-label:hover label.sk-toggleable__label {background-color: #d4ebff;}#sk-container-id-9 div.sk-serial::before {content: \"\";position: absolute;border-left: 1px solid gray;box-sizing: border-box;top: 0;bottom: 0;left: 50%;z-index: 0;}#sk-container-id-9 div.sk-serial {display: flex;flex-direction: column;align-items: center;background-color: white;padding-right: 0.2em;padding-left: 0.2em;position: relative;}#sk-container-id-9 div.sk-item {position: relative;z-index: 1;}#sk-container-id-9 div.sk-parallel {display: flex;align-items: stretch;justify-content: center;background-color: white;position: relative;}#sk-container-id-9 div.sk-item::before, #sk-container-id-9 div.sk-parallel-item::before {content: \"\";position: absolute;border-left: 1px solid gray;box-sizing: border-box;top: 0;bottom: 0;left: 50%;z-index: -1;}#sk-container-id-9 div.sk-parallel-item {display: flex;flex-direction: column;z-index: 1;position: relative;background-color: white;}#sk-container-id-9 div.sk-parallel-item:first-child::after {align-self: flex-end;width: 50%;}#sk-container-id-9 div.sk-parallel-item:last-child::after {align-self: flex-start;width: 50%;}#sk-container-id-9 div.sk-parallel-item:only-child::after {width: 0;}#sk-container-id-9 div.sk-dashed-wrapped {border: 1px dashed gray;margin: 0 0.4em 0.5em 0.4em;box-sizing: border-box;padding-bottom: 0.4em;background-color: white;}#sk-container-id-9 div.sk-label label {font-family: monospace;font-weight: bold;display: inline-block;line-height: 1.2em;}#sk-container-id-9 div.sk-label-container {text-align: center;}#sk-container-id-9 div.sk-container {/* jupyter's `normalize.less` sets `[hidden] { display: none; }` but bootstrap.min.css set `[hidden] { display: none !important; }` so we also need the `!important` here to be able to override the default hidden behavior on the sphinx rendered scikit-learn.org. See: https://github.com/scikit-learn/scikit-learn/issues/21755 */display: inline-block !important;position: relative;}#sk-container-id-9 div.sk-text-repr-fallback {display: none;}</style><div id=\"sk-container-id-9\" class=\"sk-top-container\"><div class=\"sk-text-repr-fallback\"><pre>StandardScaler()</pre><b>In a Jupyter environment, please rerun this cell to show the HTML representation or trust the notebook. <br />On GitHub, the HTML representation is unable to render, please try loading this page with nbviewer.org.</b></div><div class=\"sk-container\" hidden><div class=\"sk-item\"><div class=\"sk-estimator sk-toggleable\"><input class=\"sk-toggleable__control sk-hidden--visually\" id=\"sk-estimator-id-9\" type=\"checkbox\" checked><label for=\"sk-estimator-id-9\" class=\"sk-toggleable__label sk-toggleable__label-arrow\">StandardScaler</label><div class=\"sk-toggleable__content\"><pre>StandardScaler()</pre></div></div></div></div></div>"
            ]
          },
          "metadata": {},
          "execution_count": 127
        }
      ]
    },
    {
      "cell_type": "code",
      "execution_count": 128,
      "id": "ca5bbcf9",
      "metadata": {
        "colab": {
          "base_uri": "https://localhost:8080/",
          "height": 711
        },
        "id": "ca5bbcf9",
        "outputId": "282181ba-93fa-408f-b88b-edb402a53852"
      },
      "outputs": [
        {
          "output_type": "execute_result",
          "data": {
            "text/plain": [
              "Number_of_Casualties\n",
              "1.0     39004\n",
              "2.0      8189\n",
              "3.0      2367\n",
              "4.0       842\n",
              "5.0       288\n",
              "6.0       130\n",
              "7.0        44\n",
              "8.0        23\n",
              "9.0         8\n",
              "10.0        8\n",
              "12.0        3\n",
              "13.0        2\n",
              "18.0        2\n",
              "51.0        1\n",
              "11.0        1\n",
              "42.0        1\n",
              "24.0        1\n",
              "14.0        1\n",
              "23.0        1\n",
              "Name: count, dtype: int64"
            ],
            "text/html": [
              "<div>\n",
              "<style scoped>\n",
              "    .dataframe tbody tr th:only-of-type {\n",
              "        vertical-align: middle;\n",
              "    }\n",
              "\n",
              "    .dataframe tbody tr th {\n",
              "        vertical-align: top;\n",
              "    }\n",
              "\n",
              "    .dataframe thead th {\n",
              "        text-align: right;\n",
              "    }\n",
              "</style>\n",
              "<table border=\"1\" class=\"dataframe\">\n",
              "  <thead>\n",
              "    <tr style=\"text-align: right;\">\n",
              "      <th></th>\n",
              "      <th>count</th>\n",
              "    </tr>\n",
              "    <tr>\n",
              "      <th>Number_of_Casualties</th>\n",
              "      <th></th>\n",
              "    </tr>\n",
              "  </thead>\n",
              "  <tbody>\n",
              "    <tr>\n",
              "      <th>1.0</th>\n",
              "      <td>39004</td>\n",
              "    </tr>\n",
              "    <tr>\n",
              "      <th>2.0</th>\n",
              "      <td>8189</td>\n",
              "    </tr>\n",
              "    <tr>\n",
              "      <th>3.0</th>\n",
              "      <td>2367</td>\n",
              "    </tr>\n",
              "    <tr>\n",
              "      <th>4.0</th>\n",
              "      <td>842</td>\n",
              "    </tr>\n",
              "    <tr>\n",
              "      <th>5.0</th>\n",
              "      <td>288</td>\n",
              "    </tr>\n",
              "    <tr>\n",
              "      <th>6.0</th>\n",
              "      <td>130</td>\n",
              "    </tr>\n",
              "    <tr>\n",
              "      <th>7.0</th>\n",
              "      <td>44</td>\n",
              "    </tr>\n",
              "    <tr>\n",
              "      <th>8.0</th>\n",
              "      <td>23</td>\n",
              "    </tr>\n",
              "    <tr>\n",
              "      <th>9.0</th>\n",
              "      <td>8</td>\n",
              "    </tr>\n",
              "    <tr>\n",
              "      <th>10.0</th>\n",
              "      <td>8</td>\n",
              "    </tr>\n",
              "    <tr>\n",
              "      <th>12.0</th>\n",
              "      <td>3</td>\n",
              "    </tr>\n",
              "    <tr>\n",
              "      <th>13.0</th>\n",
              "      <td>2</td>\n",
              "    </tr>\n",
              "    <tr>\n",
              "      <th>18.0</th>\n",
              "      <td>2</td>\n",
              "    </tr>\n",
              "    <tr>\n",
              "      <th>51.0</th>\n",
              "      <td>1</td>\n",
              "    </tr>\n",
              "    <tr>\n",
              "      <th>11.0</th>\n",
              "      <td>1</td>\n",
              "    </tr>\n",
              "    <tr>\n",
              "      <th>42.0</th>\n",
              "      <td>1</td>\n",
              "    </tr>\n",
              "    <tr>\n",
              "      <th>24.0</th>\n",
              "      <td>1</td>\n",
              "    </tr>\n",
              "    <tr>\n",
              "      <th>14.0</th>\n",
              "      <td>1</td>\n",
              "    </tr>\n",
              "    <tr>\n",
              "      <th>23.0</th>\n",
              "      <td>1</td>\n",
              "    </tr>\n",
              "  </tbody>\n",
              "</table>\n",
              "</div><br><label><b>dtype:</b> int64</label>"
            ]
          },
          "metadata": {},
          "execution_count": 128
        }
      ],
      "source": [
        "df['Number_of_Casualties'].value_counts()"
      ]
    },
    {
      "cell_type": "code",
      "source": [
        "df['Number_of_Casualties'] = df['Number_of_Casualties'].fillna(df['Number_of_Casualties'].mean())"
      ],
      "metadata": {
        "id": "72t7IQcg2u34"
      },
      "id": "72t7IQcg2u34",
      "execution_count": 129,
      "outputs": []
    },
    {
      "cell_type": "code",
      "source": [
        "df['Accident_Severity'].value_counts()"
      ],
      "metadata": {
        "colab": {
          "base_uri": "https://localhost:8080/",
          "height": 209
        },
        "id": "Ktf7dYIF29cx",
        "outputId": "3948b679-8e76-4080-e143-13b1c84447a4"
      },
      "id": "Ktf7dYIF29cx",
      "execution_count": 130,
      "outputs": [
        {
          "output_type": "execute_result",
          "data": {
            "text/plain": [
              "Accident_Severity\n",
              "3.0    43890\n",
              "2.0     7080\n",
              "1.0      665\n",
              "Name: count, dtype: int64"
            ],
            "text/html": [
              "<div>\n",
              "<style scoped>\n",
              "    .dataframe tbody tr th:only-of-type {\n",
              "        vertical-align: middle;\n",
              "    }\n",
              "\n",
              "    .dataframe tbody tr th {\n",
              "        vertical-align: top;\n",
              "    }\n",
              "\n",
              "    .dataframe thead th {\n",
              "        text-align: right;\n",
              "    }\n",
              "</style>\n",
              "<table border=\"1\" class=\"dataframe\">\n",
              "  <thead>\n",
              "    <tr style=\"text-align: right;\">\n",
              "      <th></th>\n",
              "      <th>count</th>\n",
              "    </tr>\n",
              "    <tr>\n",
              "      <th>Accident_Severity</th>\n",
              "      <th></th>\n",
              "    </tr>\n",
              "  </thead>\n",
              "  <tbody>\n",
              "    <tr>\n",
              "      <th>3.0</th>\n",
              "      <td>43890</td>\n",
              "    </tr>\n",
              "    <tr>\n",
              "      <th>2.0</th>\n",
              "      <td>7080</td>\n",
              "    </tr>\n",
              "    <tr>\n",
              "      <th>1.0</th>\n",
              "      <td>665</td>\n",
              "    </tr>\n",
              "  </tbody>\n",
              "</table>\n",
              "</div><br><label><b>dtype:</b> int64</label>"
            ]
          },
          "metadata": {},
          "execution_count": 130
        }
      ]
    },
    {
      "cell_type": "code",
      "source": [
        "df['Accident_Severity'] = df['Accident_Severity'].fillna(df['Accident_Severity'].mean())"
      ],
      "metadata": {
        "id": "AR9fXbmu3MXp"
      },
      "id": "AR9fXbmu3MXp",
      "execution_count": 131,
      "outputs": []
    },
    {
      "cell_type": "code",
      "source": [
        "df['Light_Conditions'].value_counts()"
      ],
      "metadata": {
        "colab": {
          "base_uri": "https://localhost:8080/",
          "height": 272
        },
        "id": "aM5MIi0J3VHn",
        "outputId": "0695d545-4fff-4aff-850a-b683aca6cb1e"
      },
      "id": "aM5MIi0J3VHn",
      "execution_count": 132,
      "outputs": [
        {
          "output_type": "execute_result",
          "data": {
            "text/plain": [
              "Light_Conditions\n",
              "Daylight: Street light present               37711\n",
              "Darkness: Street lights present and lit      10111\n",
              "Darkeness: No street lighting                 2811\n",
              "Darkness: Street lighting unknown              535\n",
              "Darkness: Street lights present but unlit      245\n",
              "Name: count, dtype: int64"
            ],
            "text/html": [
              "<div>\n",
              "<style scoped>\n",
              "    .dataframe tbody tr th:only-of-type {\n",
              "        vertical-align: middle;\n",
              "    }\n",
              "\n",
              "    .dataframe tbody tr th {\n",
              "        vertical-align: top;\n",
              "    }\n",
              "\n",
              "    .dataframe thead th {\n",
              "        text-align: right;\n",
              "    }\n",
              "</style>\n",
              "<table border=\"1\" class=\"dataframe\">\n",
              "  <thead>\n",
              "    <tr style=\"text-align: right;\">\n",
              "      <th></th>\n",
              "      <th>count</th>\n",
              "    </tr>\n",
              "    <tr>\n",
              "      <th>Light_Conditions</th>\n",
              "      <th></th>\n",
              "    </tr>\n",
              "  </thead>\n",
              "  <tbody>\n",
              "    <tr>\n",
              "      <th>Daylight: Street light present</th>\n",
              "      <td>37711</td>\n",
              "    </tr>\n",
              "    <tr>\n",
              "      <th>Darkness: Street lights present and lit</th>\n",
              "      <td>10111</td>\n",
              "    </tr>\n",
              "    <tr>\n",
              "      <th>Darkeness: No street lighting</th>\n",
              "      <td>2811</td>\n",
              "    </tr>\n",
              "    <tr>\n",
              "      <th>Darkness: Street lighting unknown</th>\n",
              "      <td>535</td>\n",
              "    </tr>\n",
              "    <tr>\n",
              "      <th>Darkness: Street lights present but unlit</th>\n",
              "      <td>245</td>\n",
              "    </tr>\n",
              "  </tbody>\n",
              "</table>\n",
              "</div><br><label><b>dtype:</b> int64</label>"
            ]
          },
          "metadata": {},
          "execution_count": 132
        }
      ]
    },
    {
      "cell_type": "code",
      "source": [
        "df['Light_Conditions'] = df['Light_Conditions'].fillna('unknown')"
      ],
      "metadata": {
        "id": "_zw0kj8U3gl_"
      },
      "id": "_zw0kj8U3gl_",
      "execution_count": 133,
      "outputs": []
    },
    {
      "cell_type": "code",
      "source": [
        "df['Urban_or_Rural_Area'].value_counts()"
      ],
      "metadata": {
        "colab": {
          "base_uri": "https://localhost:8080/",
          "height": 209
        },
        "id": "8cfQ-5Ww3x0k",
        "outputId": "e300aa59-b16c-4bc5-c698-51c8863e0977"
      },
      "id": "8cfQ-5Ww3x0k",
      "execution_count": 134,
      "outputs": [
        {
          "output_type": "execute_result",
          "data": {
            "text/plain": [
              "Urban_or_Rural_Area\n",
              "1.0    33222\n",
              "2.0    18646\n",
              "3.0        1\n",
              "Name: count, dtype: int64"
            ],
            "text/html": [
              "<div>\n",
              "<style scoped>\n",
              "    .dataframe tbody tr th:only-of-type {\n",
              "        vertical-align: middle;\n",
              "    }\n",
              "\n",
              "    .dataframe tbody tr th {\n",
              "        vertical-align: top;\n",
              "    }\n",
              "\n",
              "    .dataframe thead th {\n",
              "        text-align: right;\n",
              "    }\n",
              "</style>\n",
              "<table border=\"1\" class=\"dataframe\">\n",
              "  <thead>\n",
              "    <tr style=\"text-align: right;\">\n",
              "      <th></th>\n",
              "      <th>count</th>\n",
              "    </tr>\n",
              "    <tr>\n",
              "      <th>Urban_or_Rural_Area</th>\n",
              "      <th></th>\n",
              "    </tr>\n",
              "  </thead>\n",
              "  <tbody>\n",
              "    <tr>\n",
              "      <th>1.0</th>\n",
              "      <td>33222</td>\n",
              "    </tr>\n",
              "    <tr>\n",
              "      <th>2.0</th>\n",
              "      <td>18646</td>\n",
              "    </tr>\n",
              "    <tr>\n",
              "      <th>3.0</th>\n",
              "      <td>1</td>\n",
              "    </tr>\n",
              "  </tbody>\n",
              "</table>\n",
              "</div><br><label><b>dtype:</b> int64</label>"
            ]
          },
          "metadata": {},
          "execution_count": 134
        }
      ]
    },
    {
      "cell_type": "code",
      "source": [
        "df['Urban_or_Rural_Area'] = df['Urban_or_Rural_Area'].fillna(df['Urban_or_Rural_Area'].mean())"
      ],
      "metadata": {
        "id": "vyt6_TJE34Ua"
      },
      "id": "vyt6_TJE34Ua",
      "execution_count": 135,
      "outputs": []
    },
    {
      "cell_type": "code",
      "source": [
        "pca = PCA(n_components=0.9)\n",
        "pca_features = pca.fit_transform(df)"
      ],
      "metadata": {
        "id": "zMAi1LyA71PN"
      },
      "id": "zMAi1LyA71PN",
      "execution_count": 142,
      "outputs": []
    },
    {
      "cell_type": "markdown",
      "id": "d3f6a968",
      "metadata": {
        "id": "d3f6a968"
      },
      "source": [
        "## Feature Selection\n",
        "Select relevant features for clustering. Explain your choice of features.\n"
      ]
    },
    {
      "cell_type": "code",
      "execution_count": 138,
      "id": "7a2b7c47",
      "metadata": {
        "id": "7a2b7c47"
      },
      "outputs": [],
      "source": [
        "df = df.drop(['Date','Day_of_Week','Year','Did_Police_Officer_Attend_Scene_of_Accident'],axis=1)"
      ]
    },
    {
      "cell_type": "code",
      "source": [
        "df = df.select_dtypes(include =['int64', 'float64' ])"
      ],
      "metadata": {
        "id": "sPqRTtVQDE-q"
      },
      "id": "sPqRTtVQDE-q",
      "execution_count": 140,
      "outputs": []
    },
    {
      "cell_type": "code",
      "source": [
        "df.columns"
      ],
      "metadata": {
        "colab": {
          "base_uri": "https://localhost:8080/"
        },
        "id": "9hIlqzcQJwX6",
        "outputId": "e632a5eb-c3e6-4af0-d1f5-4b349d937289"
      },
      "id": "9hIlqzcQJwX6",
      "execution_count": 141,
      "outputs": [
        {
          "output_type": "execute_result",
          "data": {
            "text/plain": [
              "Index(['Location_Easting_OSGR', 'Location_Northing_OSGR', 'Longitude',\n",
              "       'Latitude', 'Police_Force', 'Accident_Severity', 'Number_of_Vehicles',\n",
              "       'Number_of_Casualties', 'Local_Authority_(District)',\n",
              "       'Local_Authority_(Highway)', '1st_Road_Class', '1st_Road_Number',\n",
              "       'Speed_limit', '2nd_Road_Class', '2nd_Road_Number',\n",
              "       'Urban_or_Rural_Area'],\n",
              "      dtype='object')"
            ]
          },
          "metadata": {},
          "execution_count": 141
        }
      ]
    },
    {
      "cell_type": "markdown",
      "id": "d0379d4e",
      "metadata": {
        "id": "d0379d4e"
      },
      "source": [
        "## Data Visualization\n",
        "Visualize the data using appropriate plots to gain insights into the dataset. Using the following:\n",
        "- Scatter plot of accidents based on Longitude and Latitude."
      ]
    },
    {
      "cell_type": "code",
      "execution_count": 149,
      "id": "660247d7",
      "metadata": {
        "colab": {
          "base_uri": "https://localhost:8080/",
          "height": 466
        },
        "id": "660247d7",
        "outputId": "d24b2ad4-5f2e-4897-9fc3-90d63eaed78e"
      },
      "outputs": [
        {
          "output_type": "execute_result",
          "data": {
            "text/plain": [
              "<Axes: xlabel='Longitude', ylabel='Latitude'>"
            ]
          },
          "metadata": {},
          "execution_count": 149
        },
        {
          "output_type": "display_data",
          "data": {
            "text/plain": [
              "<Figure size 640x480 with 1 Axes>"
            ],
            "image/png": "[encoded data removed]"
          },
          "metadata": {}
        }
      ],
      "source": [
        "sns.scatterplot(x= df['Longitude'], y=df['Latitude'])"
      ]
    },
    {
      "cell_type": "markdown",
      "id": "4d2f9b1d",
      "metadata": {
        "id": "4d2f9b1d"
      },
      "source": [
        "## Clustering\n",
        "Apply K-Means clustering. Determine the optimal number of clusters and justify your choice.\n",
        "* Find the `n_clusters` parameter using the elbow method.\n",
        "* Train the model."
      ]
    },
    {
      "cell_type": "code",
      "execution_count": 143,
      "id": "2d08303f",
      "metadata": {
        "id": "2d08303f"
      },
      "outputs": [],
      "source": [
        "inertia = []\n",
        "k_range = range(1,11)\n",
        "\n",
        "for k in k_range:\n",
        " kmeans = KMeans(n_clusters=k ,init = 'k-means++', max_iter=300,\n",
        "                  n_init=10,random_state=23)\n",
        "\n",
        "\n",
        " kmeans.fit(pca_features)\n",
        " inertia.append(kmeans.inertia_)"
      ]
    },
    {
      "cell_type": "code",
      "source": [
        "plt.plot(k_range,inertia,'bx-')\n",
        "plt.title('The Elbow Method')\n",
        "plt.xlabel('Number of clusters')\n",
        "plt.ylabel('Inertia')\n",
        "\n",
        "plt.grid(True)\n",
        "plt.show()\n"
      ],
      "metadata": {
        "colab": {
          "base_uri": "https://localhost:8080/",
          "height": 472
        },
        "id": "ksX6lT3c8dZh",
        "outputId": "bd661a43-8181-4db0-e0ad-c54b9a91b2fa"
      },
      "id": "ksX6lT3c8dZh",
      "execution_count": 144,
      "outputs": [
        {
          "output_type": "display_data",
          "data": {
            "text/plain": [
              "<Figure size 640x480 with 1 Axes>"
            ],
            "image/png": "[encoded data removed]"
          },
          "metadata": {}
        }
      ]
    },
    {
      "cell_type": "code",
      "source": [
        "kmeans = KMeans(n_clusters=4 ,init = 'k-means++', max_iter=300, n_init=10,random_state=23)\n",
        "\n",
        "kmeans.fit(pca_features)"
      ],
      "metadata": {
        "colab": {
          "base_uri": "https://localhost:8080/",
          "height": 74
        },
        "id": "ewE71wj16mKz",
        "outputId": "f91549e7-956c-4c9b-df1f-7ee93a3a22c8"
      },
      "id": "ewE71wj16mKz",
      "execution_count": 145,
      "outputs": [
        {
          "output_type": "execute_result",
          "data": {
            "text/plain": [
              "KMeans(n_clusters=4, n_init=10, random_state=23)"
            ],
            "text/html": [
              "<style>#sk-container-id-10 {color: black;}#sk-container-id-10 pre{padding: 0;}#sk-container-id-10 div.sk-toggleable {background-color: white;}#sk-container-id-10 label.sk-toggleable__label {cursor: pointer;display: block;width: 100%;margin-bottom: 0;padding: 0.3em;box-sizing: border-box;text-align: center;}#sk-container-id-10 label.sk-toggleable__label-arrow:before {content: \"▸\";float: left;margin-right: 0.25em;color: #696969;}#sk-container-id-10 label.sk-toggleable__label-arrow:hover:before {color: black;}#sk-container-id-10 div.sk-estimator:hover label.sk-toggleable__label-arrow:before {color: black;}#sk-container-id-10 div.sk-toggleable__content {max-height: 0;max-width: 0;overflow: hidden;text-align: left;background-color: #f0f8ff;}#sk-container-id-10 div.sk-toggleable__content pre {margin: 0.2em;color: black;border-radius: 0.25em;background-color: #f0f8ff;}#sk-container-id-10 input.sk-toggleable__control:checked~div.sk-toggleable__content {max-height: 200px;max-width: 100%;overflow: auto;}#sk-container-id-10 input.sk-toggleable__control:checked~label.sk-toggleable__label-arrow:before {content: \"▾\";}#sk-container-id-10 div.sk-estimator input.sk-toggleable__control:checked~label.sk-toggleable__label {background-color: #d4ebff;}#sk-container-id-10 div.sk-label input.sk-toggleable__control:checked~label.sk-toggleable__label {background-color: #d4ebff;}#sk-container-id-10 input.sk-hidden--visually {border: 0;clip: rect(1px 1px 1px 1px);clip: rect(1px, 1px, 1px, 1px);height: 1px;margin: -1px;overflow: hidden;padding: 0;position: absolute;width: 1px;}#sk-container-id-10 div.sk-estimator {font-family: monospace;background-color: #f0f8ff;border: 1px dotted black;border-radius: 0.25em;box-sizing: border-box;margin-bottom: 0.5em;}#sk-container-id-10 div.sk-estimator:hover {background-color: #d4ebff;}#sk-container-id-10 div.sk-parallel-item::after {content: \"\";width: 100%;border-bottom: 1px solid gray;flex-grow: 1;}#sk-container-id-10 div.sk-label:hover label.sk-toggleable__label {background-color: #d4ebff;}#sk-container-id-10 div.sk-serial::before {content: \"\";position: absolute;border-left: 1px solid gray;box-sizing: border-box;top: 0;bottom: 0;left: 50%;z-index: 0;}#sk-container-id-10 div.sk-serial {display: flex;flex-direction: column;align-items: center;background-color: white;padding-right: 0.2em;padding-left: 0.2em;position: relative;}#sk-container-id-10 div.sk-item {position: relative;z-index: 1;}#sk-container-id-10 div.sk-parallel {display: flex;align-items: stretch;justify-content: center;background-color: white;position: relative;}#sk-container-id-10 div.sk-item::before, #sk-container-id-10 div.sk-parallel-item::before {content: \"\";position: absolute;border-left: 1px solid gray;box-sizing: border-box;top: 0;bottom: 0;left: 50%;z-index: -1;}#sk-container-id-10 div.sk-parallel-item {display: flex;flex-direction: column;z-index: 1;position: relative;background-color: white;}#sk-container-id-10 div.sk-parallel-item:first-child::after {align-self: flex-end;width: 50%;}#sk-container-id-10 div.sk-parallel-item:last-child::after {align-self: flex-start;width: 50%;}#sk-container-id-10 div.sk-parallel-item:only-child::after {width: 0;}#sk-container-id-10 div.sk-dashed-wrapped {border: 1px dashed gray;margin: 0 0.4em 0.5em 0.4em;box-sizing: border-box;padding-bottom: 0.4em;background-color: white;}#sk-container-id-10 div.sk-label label {font-family: monospace;font-weight: bold;display: inline-block;line-height: 1.2em;}#sk-container-id-10 div.sk-label-container {text-align: center;}#sk-container-id-10 div.sk-container {/* jupyter's `normalize.less` sets `[hidden] { display: none; }` but bootstrap.min.css set `[hidden] { display: none !important; }` so we also need the `!important` here to be able to override the default hidden behavior on the sphinx rendered scikit-learn.org. See: https://github.com/scikit-learn/scikit-learn/issues/21755 */display: inline-block !important;position: relative;}#sk-container-id-10 div.sk-text-repr-fallback {display: none;}</style><div id=\"sk-container-id-10\" class=\"sk-top-container\"><div class=\"sk-text-repr-fallback\"><pre>KMeans(n_clusters=4, n_init=10, random_state=23)</pre><b>In a Jupyter environment, please rerun this cell to show the HTML representation or trust the notebook. <br />On GitHub, the HTML representation is unable to render, please try loading this page with nbviewer.org.</b></div><div class=\"sk-container\" hidden><div class=\"sk-item\"><div class=\"sk-estimator sk-toggleable\"><input class=\"sk-toggleable__control sk-hidden--visually\" id=\"sk-estimator-id-10\" type=\"checkbox\" checked><label for=\"sk-estimator-id-10\" class=\"sk-toggleable__label sk-toggleable__label-arrow\">KMeans</label><div class=\"sk-toggleable__content\"><pre>KMeans(n_clusters=4, n_init=10, random_state=23)</pre></div></div></div></div></div>"
            ]
          },
          "metadata": {},
          "execution_count": 145
        }
      ]
    },
    {
      "cell_type": "code",
      "source": [
        "cluster_labels= kmeans.predict(pca_features)"
      ],
      "metadata": {
        "id": "wMJ-J1PrHn5o"
      },
      "id": "wMJ-J1PrHn5o",
      "execution_count": 146,
      "outputs": []
    },
    {
      "cell_type": "markdown",
      "id": "70fb3a2a",
      "metadata": {
        "id": "70fb3a2a"
      },
      "source": [
        "## Evaluation\n",
        "Evaluate the clustering result using appropriate metrics.\n"
      ]
    },
    {
      "cell_type": "code",
      "execution_count": 147,
      "id": "70c261ca",
      "metadata": {
        "colab": {
          "base_uri": "https://localhost:8080/"
        },
        "id": "70c261ca",
        "outputId": "2f068344-397f-4e5b-e791-76fb3f1fbf45"
      },
      "outputs": [
        {
          "output_type": "execute_result",
          "data": {
            "text/plain": [
              "0.5413578242916505"
            ]
          },
          "metadata": {},
          "execution_count": 147
        }
      ],
      "source": [
        "silhouette_score(pca_features, kmeans.fit_predict(pca_features))\n"
      ]
    },
    {
      "cell_type": "markdown",
      "id": "061e005c",
      "metadata": {
        "id": "061e005c"
      },
      "source": [
        "## Plot the data points with their predicted cluster center"
      ]
    },
    {
      "cell_type": "code",
      "execution_count": 148,
      "id": "10cc0ed5",
      "metadata": {
        "colab": {
          "base_uri": "https://localhost:8080/",
          "height": 447
        },
        "id": "10cc0ed5",
        "outputId": "b66d51d7-f570-4632-c320-0083b3382ff2"
      },
      "outputs": [
        {
          "output_type": "execute_result",
          "data": {
            "text/plain": [
              "<matplotlib.collections.PathCollection at 0x7ad533a3da20>"
            ]
          },
          "metadata": {},
          "execution_count": 148
        },
        {
          "output_type": "display_data",
          "data": {
            "text/plain": [
              "<Figure size 640x480 with 1 Axes>"
            ],
            "image/png": "[encoded data removed]"
          },
          "metadata": {}
        }
      ],
      "source": [
        "plt.scatter(x=pca_features[:,0],y=pca_features[:,1], c =cluster_labels )\n",
        "plt.scatter(kmeans.cluster_centers_[:,0],kmeans.cluster_centers_[:,1],marker='x', c='red')"
      ]
    },
    {
      "cell_type": "markdown",
      "id": "5cdf3716",
      "metadata": {
        "id": "5cdf3716"
      },
      "source": [
        "## Exam Questions\n",
        "* **Justify Your Feature Selection:**\n",
        "   - Which features did you choose for clustering and why?\n",
        "* **Number of Clusters Choices:**\n",
        "   - How did you determine the optimal number?\n",
        "* **Evaluation:**\n",
        "   - Which metrics did you use to evaluate the clustering results, and why?\n",
        "   - How do these metrics help in understanding the effectiveness of your clustering approach?\n",
        "* **Improvements and Recommendations:**\n",
        "   - Suggest any improvements or future work that could be done with this dataset. What other methods or algorithms would you consider applying?"
      ]
    },
    {
      "cell_type": "markdown",
      "source": [
        "I choose the feature that are related to the accidents geographicaly.\n",
        "\n",
        "I determine the optimal number from the elbow method above which for me was 4 clusters.\n",
        "\n",
        "I used silhouette score it checks if the sample is assigned to the clusters or not, the score made me determine that I assigned the right clusters.\n",
        "\n",
        "I would apply more data cleaning to the dataset because it takes more time, I did keep some columns that are not related to the geographical accidents but fortunatley it didnt effect the results.\n"
      ],
      "metadata": {
        "id": "YlaFuN5sLaRJ"
      },
      "id": "YlaFuN5sLaRJ"
    }
  ],
  "metadata": {
    "language_info": {
      "name": "python"
    },
    "colab": {
      "provenance": []
    },
    "kernelspec": {
      "name": "python3",
      "display_name": "Python 3"
    }
  },
  "nbformat": 4,
  "nbformat_minor": 5
}