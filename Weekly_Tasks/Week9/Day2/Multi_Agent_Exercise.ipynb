{
  "cells": [
    {
      "cell_type": "markdown",
      "id": "2fb9ed4d",
      "metadata": {
        "id": "2fb9ed4d"
      },
      "source": [
        "\n",
        "# Exercise: Building a Multi-Agent System\n",
        "\n",
        "In this exercise, you will create a simple multi-agent system where two agents collaborate to accomplish a common goal. The first agent will conduct research on a topic, and the second agent will summarize the research.\n",
        "\n",
        "Follow the steps below to complete the exercise.\n",
        "\n",
        "---\n",
        "### Step 1: Install the Required Libraries\n",
        "\n",
        "Make sure the necessary libraries are installed using the following command:\n"
      ]
    },
    {
      "cell_type": "code",
      "execution_count": null,
      "id": "0352a049",
      "metadata": {
        "id": "0352a049"
      },
      "outputs": [],
      "source": [
        "!pip install crewai langchain langchain-community langchain_groq"
      ]
    },
    {
      "cell_type": "markdown",
      "id": "4680062e",
      "metadata": {
        "id": "4680062e"
      },
      "source": [
        "\n",
        "---\n",
        "### Step 2: Import the Necessary Libraries\n",
        "\n",
        "You will need to import the relevant libraries to create and manage your agents. Fill in the missing parts of the code below:\n"
      ]
    },
    {
      "cell_type": "code",
      "execution_count": 5,
      "id": "2620b4a8",
      "metadata": {
        "id": "2620b4a8"
      },
      "outputs": [],
      "source": [
        "import os\n",
        "\n",
        "# Save the API key\n",
        "os.environ[\"GROQ_API_KEY\"] = \"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\""
      ]
    },
    {
      "cell_type": "markdown",
      "id": "fc736f9e",
      "metadata": {
        "id": "fc736f9e"
      },
      "source": [
        "\n",
        "---\n",
        "### Step 3: Create Agents\n",
        "\n",
        "Now, define the two agents. **Agent 1** will handle research, and **Agent 2** will summarize the research.\n",
        "\n",
        "Fill in the code below to create the agents:\n"
      ]
    },
    {
      "cell_type": "code",
      "execution_count": 6,
      "id": "35b5dd49",
      "metadata": {
        "id": "35b5dd49"
      },
      "outputs": [],
      "source": [
        "from langchain_groq import ChatGroq\n",
        "\n",
        "llm = ChatGroq(\n",
        "    model=\"groq/llama-3.1-70b-versatile\",\n",
        "    temperature=0.7,\n",
        "    max_tokens=None,\n",
        "    timeout=None,\n",
        "    max_retries=2\n",
        ")\n",
        "\n",
        "function_calling_llm = ChatGroq(\n",
        "    model=\"groq/llama-3.1-70b-versatile\",\n",
        "    temperature=0.7,\n",
        "    max_tokens=None,\n",
        "    timeout=None,\n",
        "    max_retries=2\n",
        ")\n"
      ]
    },
    {
      "cell_type": "code",
      "source": [
        "from crewai import Agent\n",
        "\n",
        "\n",
        "research_writer = Agent(\n",
        "    llm=llm,\n",
        "    function_calling_llm=function_calling_llm,\n",
        "    role=\"Professional Researcher\",\n",
        "    goal=\"Write a clear and concise research.\",\n",
        "    backstory=\"You are an experienced writer with a background in professional researchs.\",\n",
        "    allow_delegation=False,\n",
        "    verbose=1,\n",
        ")"
      ],
      "metadata": {
        "id": "IgXcO--sV9Oe"
      },
      "id": "IgXcO--sV9Oe",
      "execution_count": 17,
      "outputs": []
    },
    {
      "cell_type": "code",
      "source": [
        "from crewai import Task\n",
        "\n",
        "\n",
        "task1 = Task(\n",
        "    description=\"Write a professional research to introduce a topic to a professor about Teamwork.\",\n",
        "    expected_output=\"A clear and concise research with headlines.\",\n",
        "    output_file=\"research_draft.txt\",\n",
        "    agent=research_writer,\n",
        ")"
      ],
      "metadata": {
        "id": "In9w0DrjWaKp"
      },
      "id": "In9w0DrjWaKp",
      "execution_count": 22,
      "outputs": []
    },
    {
      "cell_type": "code",
      "source": [
        "\n",
        "research_editor = Agent(\n",
        "    llm=llm,\n",
        "    function_calling_llm=function_calling_llm,\n",
        "    role=\"research Editor\",\n",
        "    goal=\"Edit the research draft for clarity, tone, and professionalism, then summerize it.\",\n",
        "    backstory=\"You are a seasoned editor with expertise in business communication.\",\n",
        "    allow_delegation=False,\n",
        "    verbose=1,\n",
        ")"
      ],
      "metadata": {
        "id": "PIuBe-zvW0jJ"
      },
      "id": "PIuBe-zvW0jJ",
      "execution_count": 26,
      "outputs": []
    },
    {
      "cell_type": "code",
      "source": [
        "task2 = Task(\n",
        "    description=\"Review and edit the research draft for clarity, tone, and professionalism, then summerize it.\",\n",
        "    expected_output=\"A polished version of the research that improves upon clarity and professionalism.\",\n",
        "    output_file=\"final_research.txt\",\n",
        "    agent=research_editor,\n",
        "    input_file=\"research_draft.txt\",\n",
        ")"
      ],
      "metadata": {
        "id": "BgTdtZ67XFTV"
      },
      "id": "BgTdtZ67XFTV",
      "execution_count": 27,
      "outputs": []
    },
    {
      "cell_type": "markdown",
      "id": "48ad534f",
      "metadata": {
        "id": "48ad534f"
      },
      "source": [
        "\n",
        "---\n",
        "### Step 4: Execute the Multi-Agent System\n",
        "\n",
        "Finally, run the system to allow the agents to collaborate and complete their tasks.\n"
      ]
    },
    {
      "cell_type": "code",
      "execution_count": 28,
      "id": "96ece49c",
      "metadata": {
        "colab": {
          "base_uri": "https://localhost:8080/"
        },
        "id": "96ece49c",
        "outputId": "f8661efa-cc84-4ea4-edc8-332e0db34454"
      },
      "outputs": [
        {
          "output_type": "stream",
          "name": "stderr",
          "text": [
            "WARNING:opentelemetry.trace:Overriding of current TracerProvider is not allowed\n"
          ]
        },
        {
          "output_type": "stream",
          "name": "stdout",
          "text": [
            "\u001b[1m\u001b[95m# Agent:\u001b[00m \u001b[1m\u001b[92mProfessional Researcher\u001b[00m\n",
            "\u001b[95m## Task:\u001b[00m \u001b[92mWrite a professional research to introduce a topic to a professor about Teamwork.\u001b[00m\n",
            "\n",
            "\n",
            "\u001b[1m\u001b[95m# Agent:\u001b[00m \u001b[1m\u001b[92mProfessional Researcher\u001b[00m\n",
            "\u001b[95m## Final Answer:\u001b[00m \u001b[92m\n",
            "**The Importance of Teamwork in Achieving Organizational Goals**\n",
            "\n",
            "**Abstract**\n",
            "\n",
            "Teamwork is a vital component of organizational success, as it enables individuals to work collaboratively towards a common goal. This research aims to introduce the concept of teamwork, its benefits, and its importance in achieving organizational goals. The findings of this research will highlight the significance of teamwork in today's fast-paced business environment.\n",
            "\n",
            "**Introduction**\n",
            "\n",
            "Teamwork is a collaborative effort of individuals working together to achieve a common goal. In today's fast-paced business environment, organizations are increasingly recognizing the importance of teamwork in achieving success. Teamwork enables individuals to share knowledge, skills, and expertise, leading to innovative solutions and improved decision-making. As organizations continue to evolve and become more complex, the importance of teamwork will only continue to grow.\n",
            "\n",
            "**Defining Teamwork**\n",
            "\n",
            "Teamwork is defined as a collaborative effort of individuals working together to achieve a common goal. It involves communication, cooperation, and coordination among team members. Teamwork can take many forms, including face-to-face teams, virtual teams, and cross-functional teams.\n",
            "\n",
            "**Benefits of Teamwork**\n",
            "\n",
            "The benefits of teamwork are numerous, and can be categorized into individual, team, and organizational benefits. Some of the benefits of teamwork include:\n",
            "\n",
            "* **Improved decision-making**: Teamwork enables individuals to share knowledge and expertise, leading to more informed decision-making.\n",
            "* **Increased innovation**: Teamwork encourages creativity and innovation, as individuals bring different perspectives and ideas to the table.\n",
            "* **Enhanced productivity**: Teamwork enables individuals to work more efficiently and effectively, leading to improved productivity.\n",
            "* **Better communication**: Teamwork promotes communication and collaboration among team members, leading to improved relationships and trust.\n",
            "* **Improved job satisfaction**: Teamwork can lead to improved job satisfaction, as individuals feel more engaged and motivated when working collaboratively.\n",
            "\n",
            "**Importance of Teamwork in Achieving Organizational Goals**\n",
            "\n",
            "Teamwork is essential in achieving organizational goals, as it enables individuals to work collaboratively towards a common objective. Some of the ways in which teamwork contributes to achieving organizational goals include:\n",
            "\n",
            "* **Increased efficiency**: Teamwork enables individuals to work more efficiently and effectively, leading to improved productivity and faster completion of tasks.\n",
            "* **Better problem-solving**: Teamwork enables individuals to share knowledge and expertise, leading to more effective problem-solving.\n",
            "* **Improved quality**: Teamwork promotes collaboration and communication among team members, leading to improved quality and attention to detail.\n",
            "\n",
            "**Challenges to Teamwork**\n",
            "\n",
            "Despite the benefits of teamwork, there are several challenges that can hinder its effectiveness. Some of the challenges to teamwork include:\n",
            "\n",
            "* **Communication barriers**: Poor communication can lead to misunderstandings and conflicts among team members.\n",
            "* **Lack of trust**: A lack of trust among team members can hinder collaboration and communication.\n",
            "* **Different work styles**: Different work styles and personalities can lead to conflicts among team members.\n",
            "\n",
            "**Conclusion**\n",
            "\n",
            "Teamwork is a vital component of organizational success, as it enables individuals to work collaboratively towards a common goal. The benefits of teamwork, including improved decision-making, increased innovation, and enhanced productivity, make it an essential aspect of organizational life. By understanding the importance of teamwork and implementing strategies to promote collaboration and communication, organizations can achieve their goals and succeed in today's fast-paced business environment.\n",
            "\n",
            "**Recommendations for Future Research**\n",
            "\n",
            "Future research on teamwork could explore the impact of different leadership styles on teamwork, as well as the role of technology in facilitating collaboration and communication among team members. Additionally, research on the challenges to teamwork, such as communication barriers and lack of trust, could provide insights into strategies for overcoming these obstacles.\n",
            "\n",
            "**References**\n",
            "\n",
            "* Katzenbach, J. R., & Smith, D. K. (1993). The wisdom of teams: Creating the high-performance organization. Harvard Business School Press.\n",
            "* Salas, E., & Cooke, N. J. (2000). On teams, teamwork, and team performance: Discoveries and developments. Human Factors, 42(2), 139-144.\n",
            "* Tjosvold, D. (1993). Cooperative and competitive goal approach to conflict: A review and extension of the theory. Human Organizations, 52(3), 245-258.\u001b[00m\n",
            "\u001b[1m\u001b[95m# Agent:\u001b[00m \u001b[1m\u001b[92mresearch Editor\u001b[00m\n",
            "\u001b[95m## Task:\u001b[00m \u001b[92mReview and edit the research draft for clarity, tone, and professionalism, then summerize it.\u001b[00m\n",
            "\n",
            "\n",
            "\u001b[1m\u001b[95m# Agent:\u001b[00m \u001b[1m\u001b[92mresearch Editor\u001b[00m\n",
            "\u001b[95m## Final Answer:\u001b[00m \u001b[92m\n",
            "**The Importance of Teamwork in Achieving Organizational Goals**\n",
            "\n",
            "**Abstract**\n",
            "\n",
            "In today's fast-paced business environment, teamwork is a vital component of organizational success. This research introduces the concept of teamwork, its benefits, and its importance in achieving organizational goals. The findings highlight the significance of teamwork in prompting innovative solutions and improved decision-making in modern business settings.\n",
            "\n",
            "**Introduction**\n",
            "\n",
            "Teamwork refers to a collaborative effort by individuals working together to achieve a common objective. As organizations evolve and become increasingly complex, the importance of teamwork in driving success has become more pronounced. By sharing knowledge, skills, and expertise, teams can arrive at innovative solutions and make more informed decisions. This collaborative approach has become crucial in today's competitive business landscape.\n",
            "\n",
            "**Defining Teamwork**\n",
            "\n",
            "Teamwork is characterized as a collaborative effort by individuals working together to achieve a shared goal. It encompasses communication, cooperation, and coordination among team members. Various forms of teamwork exist, including face-to-face teams, virtual teams, and cross-functional teams, each offering distinct benefits in different contexts.\n",
            "\n",
            "**Benefits of Teamwork**\n",
            "\n",
            "Teamwork yields numerous benefits, which can be categorized into individual, team, and organizational benefits. These benefits include:\n",
            "\n",
            "* **Enhanced Decision-Making**: Teamwork enables the sharing of knowledge and expertise, leading to more informed decision-making and improved outcomes.\n",
            "* **Increased Innovation**: Collaborative teams foster creativity, as individuals contribute diverse perspectives and ideas to the problem-solving process.\n",
            "* **Improved Productivity**: Teamwork enables individuals to work more efficiently and effectively, resulting in enhanced productivity and faster completion of tasks.\n",
            "* **Effective Communication**: Teamwork promotes communication and collaboration among team members, leading to improved relationships, trust, and a more cohesive team environment.\n",
            "* **Job Satisfaction**: Teamwork can lead to improved job satisfaction, as individuals feel more engaged and motivated when working collaboratively towards a shared objective.\n",
            "\n",
            "**Importance of Teamwork in Achieving Organizational Goals**\n",
            "\n",
            "Teamwork plays a critical role in achieving organizational goals by enabling individuals to work collaboratively towards a common objective. Teamwork contributes to achieving organizational goals in several ways:\n",
            "\n",
            "* **Enhanced Efficiency**: Collaborative teams work more efficiently and effectively, resulting in improved productivity and faster task completion.\n",
            "* **Effective Problem-Solving**: Teamwork enables the sharing of knowledge and expertise, leading to more effective problem-solving and better outcomes.\n",
            "* **Quality Improvement**: Collaborative teams promote a culture of communication and cooperation, leading to improved quality and attention to detail.\n",
            "\n",
            "**Challenges to Teamwork**\n",
            "\n",
            "While teamwork offers numerous benefits, various challenges can hinder its effectiveness. These challenges include:\n",
            "\n",
            "* **Communication Barriers**: Poor communication can lead to misunderstandings, conflicts, and decreased collaboration among team members.\n",
            "* **Lack of Trust**: Trust is essential for effective teamwork. A lack of trust can hinder collaboration and communication among team members, ultimately affecting team performance.\n",
            "* **Different Work Styles**: Different work styles and personalities can lead to conflicts among team members, which can impede the team's ability to work collaboratively.\n",
            "\n",
            "**Conclusion**\n",
            "\n",
            "Teamwork is a vital component of organizational success, enabling individuals to work collaboratively towards a common objective. By promoting collaboration, communication, and trust among team members, organizations can unlock the full potential of teamwork and achieve their goals in today's competitive business environment.\n",
            "\n",
            "**Recommendations for Future Research**\n",
            "\n",
            "Future research on teamwork could explore the impact of different leadership styles on teamwork and the role of technology in facilitating collaboration and communication among team members. Additionally, research on the challenges to teamwork could provide insights into strategies for overcoming these obstacles and further optimizing team performance.\n",
            "\n",
            "**References**\n",
            "\n",
            "* Katzenbach, J. R., & Smith, D. K. (1993). The wisdom of teams: Creating the high-performance organization. Harvard Business School Press.\n",
            "* Salas, E., & Cooke, N. J. (2000). On teams, teamwork, and team performance: Discoveries and developments. Human Factors, 42(2), 139-144.\n",
            "* Tjosvold, D. (1993). Cooperative and competitive goal approach to conflict: A review and extension of the theory. Human Organizations, 52(3), 245-258.\u001b[00m\n",
            "**The Importance of Teamwork in Achieving Organizational Goals**\n",
            "\n",
            "**Abstract**\n",
            "\n",
            "In today's fast-paced business environment, teamwork is a vital component of organizational success. This research introduces the concept of teamwork, its benefits, and its importance in achieving organizational goals. The findings highlight the significance of teamwork in prompting innovative solutions and improved decision-making in modern business settings.\n",
            "\n",
            "**Introduction**\n",
            "\n",
            "Teamwork refers to a collaborative effort by individuals working together to achieve a common objective. As organizations evolve and become increasingly complex, the importance of teamwork in driving success has become more pronounced. By sharing knowledge, skills, and expertise, teams can arrive at innovative solutions and make more informed decisions. This collaborative approach has become crucial in today's competitive business landscape.\n",
            "\n",
            "**Defining Teamwork**\n",
            "\n",
            "Teamwork is characterized as a collaborative effort by individuals working together to achieve a shared goal. It encompasses communication, cooperation, and coordination among team members. Various forms of teamwork exist, including face-to-face teams, virtual teams, and cross-functional teams, each offering distinct benefits in different contexts.\n",
            "\n",
            "**Benefits of Teamwork**\n",
            "\n",
            "Teamwork yields numerous benefits, which can be categorized into individual, team, and organizational benefits. These benefits include:\n",
            "\n",
            "* **Enhanced Decision-Making**: Teamwork enables the sharing of knowledge and expertise, leading to more informed decision-making and improved outcomes.\n",
            "* **Increased Innovation**: Collaborative teams foster creativity, as individuals contribute diverse perspectives and ideas to the problem-solving process.\n",
            "* **Improved Productivity**: Teamwork enables individuals to work more efficiently and effectively, resulting in enhanced productivity and faster completion of tasks.\n",
            "* **Effective Communication**: Teamwork promotes communication and collaboration among team members, leading to improved relationships, trust, and a more cohesive team environment.\n",
            "* **Job Satisfaction**: Teamwork can lead to improved job satisfaction, as individuals feel more engaged and motivated when working collaboratively towards a shared objective.\n",
            "\n",
            "**Importance of Teamwork in Achieving Organizational Goals**\n",
            "\n",
            "Teamwork plays a critical role in achieving organizational goals by enabling individuals to work collaboratively towards a common objective. Teamwork contributes to achieving organizational goals in several ways:\n",
            "\n",
            "* **Enhanced Efficiency**: Collaborative teams work more efficiently and effectively, resulting in improved productivity and faster task completion.\n",
            "* **Effective Problem-Solving**: Teamwork enables the sharing of knowledge and expertise, leading to more effective problem-solving and better outcomes.\n",
            "* **Quality Improvement**: Collaborative teams promote a culture of communication and cooperation, leading to improved quality and attention to detail.\n",
            "\n",
            "**Challenges to Teamwork**\n",
            "\n",
            "While teamwork offers numerous benefits, various challenges can hinder its effectiveness. These challenges include:\n",
            "\n",
            "* **Communication Barriers**: Poor communication can lead to misunderstandings, conflicts, and decreased collaboration among team members.\n",
            "* **Lack of Trust**: Trust is essential for effective teamwork. A lack of trust can hinder collaboration and communication among team members, ultimately affecting team performance.\n",
            "* **Different Work Styles**: Different work styles and personalities can lead to conflicts among team members, which can impede the team's ability to work collaboratively.\n",
            "\n",
            "**Conclusion**\n",
            "\n",
            "Teamwork is a vital component of organizational success, enabling individuals to work collaboratively towards a common objective. By promoting collaboration, communication, and trust among team members, organizations can unlock the full potential of teamwork and achieve their goals in today's competitive business environment.\n",
            "\n",
            "**Recommendations for Future Research**\n",
            "\n",
            "Future research on teamwork could explore the impact of different leadership styles on teamwork and the role of technology in facilitating collaboration and communication among team members. Additionally, research on the challenges to teamwork could provide insights into strategies for overcoming these obstacles and further optimizing team performance.\n",
            "\n",
            "**References**\n",
            "\n",
            "* Katzenbach, J. R., & Smith, D. K. (1993). The wisdom of teams: Creating the high-performance organization. Harvard Business School Press.\n",
            "* Salas, E., & Cooke, N. J. (2000). On teams, teamwork, and team performance: Discoveries and developments. Human Factors, 42(2), 139-144.\n",
            "* Tjosvold, D. (1993). Cooperative and competitive goal approach to conflict: A review and extension of the theory. Human Organizations, 52(3), 245-258.\n"
          ]
        }
      ],
      "source": [
        "from crewai import Crew\n",
        "\n",
        "crew = Crew(agents=[research_writer, research_editor], tasks=[task1, task2], verbose=1)\n",
        "\n",
        "print(crew.kickoff())"
      ]
    }
  ],
  "metadata": {
    "language_info": {
      "name": "python"
    },
    "colab": {
      "provenance": [],
      "gpuType": "T4"
    },
    "accelerator": "GPU",
    "kernelspec": {
      "name": "python3",
      "display_name": "Python 3"
    }
  },
  "nbformat": 4,
  "nbformat_minor": 5
}