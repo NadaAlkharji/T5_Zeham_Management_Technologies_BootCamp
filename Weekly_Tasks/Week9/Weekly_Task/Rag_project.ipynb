{
  "cells": [
    {
      "cell_type": "code",
      "execution_count": null,
      "metadata": {
        "id": "PRFMUEQ4JvtB"
      },
      "outputs": [],
      "source": [
        "from IPython import get_ipython\n",
        "from IPython.display import display\n",
        "\n",
        "get_ipython().system('pip install --quiet --upgrade langchain langchain-community langchain-chroma langchain_huggingface ragas pypdf')\n",
        "import getpass\n",
        "import os\n",
        "\n",
        "os.environ[\"LANGCHAIN_TRACING_V2\"] = \"true\"\n",
        "os.environ[\"LANGCHAIN_API_KEY\"] = getpass.getpass()\n",
        "os.environ[\"GROQ_API_KEY\"] = getpass.getpass()\n",
        "\n",
        "import langchain\n",
        "from langchain.embeddings.openai import OpenAIEmbeddings\n",
        "from langchain.vectorstores import Chroma\n",
        "from langchain.text_splitter import RecursiveCharacterTextSplitter\n",
        "from langchain.prompts import ChatPromptTemplate\n",
        "from langchain.document_loaders import PyPDFLoader\n",
        "from langchain.embeddings import HuggingFaceEmbeddings\n",
        "from langchain.chains import LLMChain\n",
        "import json\n",
        "from ragas import evaluate\n",
        "from datasets import Dataset"
      ]
    },
    {
      "cell_type": "code",
      "execution_count": 4,
      "metadata": {
        "id": "jrgX_bRvKI3A"
      },
      "outputs": [],
      "source": [
        "from langchain_groq import ChatGroq"
      ]
    },
    {
      "cell_type": "code",
      "execution_count": 61,
      "metadata": {
        "id": "ZkjaBbINO4DO"
      },
      "outputs": [],
      "source": [
        "from langchain_core.output_parsers import StrOutputParser\n",
        "from langchain_core.runnables import RunnablePassthrough\n",
        "from ragas.metrics import faithfulness as faithfulness_metric\n",
        "from ragas.metrics import answer_relevancy as answer_relevancy_metric"
      ]
    },
    {
      "cell_type": "code",
      "execution_count": 5,
      "metadata": {
        "colab": {
          "base_uri": "https://localhost:8080/"
        },
        "id": "BaDeZ5aYv8T-",
        "outputId": "e9ad53ec-283a-41a7-d39d-dabcc1d31ccd"
      },
      "outputs": [
        {
          "name": "stdout",
          "output_type": "stream",
          "text": [
            "165\n"
          ]
        }
      ],
      "source": [
        "file_path = \"/content/MergeResult_2024_09_25_07_16_45.pdf\"\n",
        "loader = PyPDFLoader(file_path)\n",
        "\n",
        "docs = loader.load()\n",
        "\n",
        "print(len(docs))"
      ]
    },
    {
      "cell_type": "code",
      "execution_count": 6,
      "metadata": {
        "id": "m1XcKiLKv8ex"
      },
      "outputs": [],
      "source": [
        "text_splitter = RecursiveCharacterTextSplitter(chunk_size=1000, chunk_overlap=200)\n",
        "splits = text_splitter.split_documents(docs)\n"
      ]
    },
    {
      "cell_type": "code",
      "execution_count": null,
      "metadata": {
        "id": "__2VhTrR3QxT"
      },
      "outputs": [],
      "source": [
        "embeddings = HuggingFaceEmbeddings(model_name='intfloat/multilingual-e5-large')"
      ]
    },
    {
      "cell_type": "code",
      "execution_count": 8,
      "metadata": {
        "id": "1QsfY5Fu3RXi"
      },
      "outputs": [],
      "source": [
        "vectorstore = Chroma.from_documents( splits, embeddings )"
      ]
    },
    {
      "cell_type": "code",
      "execution_count": 40,
      "metadata": {
        "id": "U64iaTOV1_V2"
      },
      "outputs": [],
      "source": [
        "llm = ChatGroq(temperature=0,  model_name=\"mixtral-8x7b-32768\")"
      ]
    },
    {
      "cell_type": "code",
      "execution_count": 69,
      "metadata": {
        "id": "jhP7aYnQBXhd"
      },
      "outputs": [],
      "source": [
        "prompt = \"\"\"\n",
        "Answer the question based only on the following context:\n",
        "{context}\n",
        "Question: {question}\n",
        "\n",
        "the output should be the question then the answer in a json format.\n",
        "\"\"\"\n",
        "\n",
        "prompt = ChatPromptTemplate.from_template(prompt)"
      ]
    },
    {
      "cell_type": "code",
      "execution_count": 70,
      "metadata": {
        "id": "GevOnSjp1aW2"
      },
      "outputs": [],
      "source": [
        "model = LLMChain(llm=llm, prompt=prompt)"
      ]
    },
    {
      "cell_type": "code",
      "execution_count": 31,
      "metadata": {
        "id": "UyscAnCzOjYg"
      },
      "outputs": [],
      "source": [
        "retriever = vectorstore.as_retriever()"
      ]
    },
    {
      "cell_type": "code",
      "execution_count": 71,
      "metadata": {
        "id": "Yji2Cnvs4J6o"
      },
      "outputs": [],
      "source": [
        "rag_chain = (\n",
        "    {\"context\": retriever , \"question\": RunnablePassthrough()}\n",
        "    | prompt\n",
        "    | llm\n",
        "    | StrOutputParser()\n",
        ")\n"
      ]
    },
    {
      "cell_type": "code",
      "execution_count": 92,
      "metadata": {
        "id": "y4ys7P5J4jdn"
      },
      "outputs": [],
      "source": [
        "respone = rag_chain.invoke(\"What is usability?\")"
      ]
    },
    {
      "cell_type": "code",
      "execution_count": 73,
      "metadata": {
        "colab": {
          "base_uri": "https://localhost:8080/",
          "height": 53
        },
        "id": "QhzSAg8YAzlk",
        "outputId": "9e077d0a-83bc-4202-b0bf-ac74c2dd3dbd"
      },
      "outputs": [
        {
          "data": {
            "application/vnd.google.colaboratory.intrinsic+json": {
              "type": "string"
            },
            "text/plain": [
              "'{\\n\"question\": \"What is usability?\",\\n\"answer\": \"Usability is a measure of the effectiveness, efficiency, and satisfaction with which specified users can achieve specified goals in a particular environment.\"\\n}'"
            ]
          },
          "execution_count": 73,
          "metadata": {},
          "output_type": "execute_result"
        }
      ],
      "source": [
        "respone"
      ]
    },
    {
      "cell_type": "code",
      "execution_count": 63,
      "metadata": {
        "id": "8_x9Xg3IUHoy"
      },
      "outputs": [],
      "source": [
        "import openai\n",
        "openai.api_key = ''"
      ]
    },
    {
      "cell_type": "code",
      "execution_count": null,
      "metadata": {
        "id": "J9f1xtleXgG4"
      },
      "outputs": [],
      "source": [
        "data_sample = [\n",
        "    {\n",
        "        \"question\": \"What is a native application?\",\n",
        "        \"answer\": \"A native application is built for use on a particular device and its operating system. It has the ability to use device-specific hardware and software\",\n",
        "        \"retrieved_contexts\": [\"A native application refers to software built for use on a particular device and its operating system. It allows access to device-specific hardware and software features such as the camera, GPS, etc.\"] # Changed to a list of strings\n",
        "    },\n",
        "    {\n",
        "        \"question\": \"What is a web application?\",\n",
        "        \"answer\": \"A web application is an application that the user does not download but accesses via a web browser over a network\",\n",
        "        \"retrieved_contexts\": [\"Web applications are accessed via browsers like Chrome, Safari, or Firefox over a network and are not installed on the device. These applications use HTML, CSS, and JavaScript to deliver content and functionality.\"] # Changed to a list of strings\n",
        "    }\n",
        "]\n",
        "\n",
        "dataset = Dataset.from_list(data_sample)\n",
        "score = evaluate(dataset, [answer_relevancy_metric, faithfulness_metric])\n",
        "score_df = score.to_pandas()\n",
        "\n",
        "print(score_df)"
      ]
    },
    {
      "cell_type": "code",
      "execution_count": 98,
      "metadata": {
        "id": "y39hFAxfawxf"
      },
      "outputs": [],
      "source": [
        "j_llm = ChatGroq(model=\"llama3-8b-8192\")"
      ]
    },
    {
      "cell_type": "code",
      "execution_count": 101,
      "metadata": {
        "id": "0qFzMZLP8H7i"
      },
      "outputs": [],
      "source": [
        "def judge_eval(question, answer):\n",
        "\n",
        "  judge_prompt = f\"\"\"\n",
        "  You are an expert evaluator. Given the following question and the answer generated by an LLM.\n",
        "  Is the answer relevant to the question? and does the model hallucination?\n",
        "\n",
        "  Question: {question}\n",
        "  Answer: {answer}\n",
        "\n",
        "  Evaluation:\n",
        "  \"\"\"\n",
        "\n",
        "  evaluation = j_llm.invoke(judge_prompt)\n",
        "\n",
        "  return {\"evaluation\": evaluation}\n",
        "\n",
        "\n"
      ]
    },
    {
      "cell_type": "code",
      "execution_count": 93,
      "metadata": {
        "id": "E3nX71UtZDDD"
      },
      "outputs": [],
      "source": [
        "respone = json.loads(respone)"
      ]
    },
    {
      "cell_type": "code",
      "execution_count": 102,
      "metadata": {
        "colab": {
          "base_uri": "https://localhost:8080/"
        },
        "id": "dymyYHMe8pN0",
        "outputId": "7565f095-3e15-4b97-c1d7-906fef189796"
      },
      "outputs": [
        {
          "name": "stdout",
          "output_type": "stream",
          "text": [
            "content='Evaluation:\\n\\nRelevance to the question: **Highly Relevant**\\n\\nThe answer provides a clear and concise definition of a native application, which aligns perfectly with the question. The answer covers the key aspects of native applications, including their development for a specific platform, installation on a device, and access to device-specific features.\\n\\nHallucination: **No Hallucination**\\n\\nThe answer does not contain any information that is not supported by the provided definition. The language used is clear and accurate, and the answer does not introduce any unrelated concepts or details that are not relevant to the question. The answer stays focused on providing a comprehensive definition of a native application, without adding any fictional or invented information.' additional_kwargs={} response_metadata={'token_usage': {'completion_tokens': 140, 'prompt_tokens': 155, 'total_tokens': 295, 'completion_time': 0.116666667, 'prompt_time': 0.026097791, 'queue_time': 0.021191569000000004, 'total_time': 0.142764458}, 'model_name': 'llama3-8b-8192', 'system_fingerprint': 'fp_179b0f92c9', 'finish_reason': 'stop', 'logprobs': None} id='run-dd5a43e7-487f-49f3-87f8-823fb908452e-0' usage_metadata={'input_tokens': 155, 'output_tokens': 140, 'total_tokens': 295}\n"
          ]
        }
      ],
      "source": [
        "result = judge_eval(respone['question'], respone['answer'])\n",
        "print(result['evaluation'])"
      ]
    },
    {
      "cell_type": "code",
      "execution_count": 103,
      "metadata": {
        "colab": {
          "base_uri": "https://localhost:8080/"
        },
        "id": "-sHZAitYaVD1",
        "outputId": "e7290d81-75a3-4cf7-f16c-aa725101bb0e"
      },
      "outputs": [
        {
          "name": "stdout",
          "output_type": "stream",
          "text": [
            "A native application is a software program that is developed for a specific platform and installed on a computing device. In the context of mobile web applications, it is used to refer to any application written to work on a specific device platform, with access to the full functionality of the device, including databases and hardware features, and the ability to use device-specific hardware and software. Native applications can provide a higher level of security and personalization compared to other types of applications.\n",
            "content=\"**Relevance to the question:** 9/10\\n\\nThe answer provides a clear and concise definition of a native application, which is directly relevant to the question. The answer also provides additional information about the characteristics of native applications, such as their ability to access device functionality and provide higher levels of security and personalization. The only reason I wouldn't give it a perfect score is that the answer doesn't explicitly state what a native application is in the context of the question, but the definition provided is still relevant and accurate.\\n\\n**Hallucination:** 0/10\\n\\nThe answer does not contain any information that is not supported by the question or the provided context. The definition of a native application is accurate and consistent with the provided context, and the additional information about the characteristics of native applications is also accurate and relevant. The model does not appear to have fabricated any information or made any incorrect assumptions. The answer is a straightforward and accurate response to the question.\" additional_kwargs={} response_metadata={'token_usage': {'completion_tokens': 194, 'prompt_tokens': 155, 'total_tokens': 349, 'completion_time': 0.161666667, 'prompt_time': 0.017291876, 'queue_time': 0.005368853, 'total_time': 0.178958543}, 'model_name': 'llama3-8b-8192', 'system_fingerprint': 'fp_af05557ca2', 'finish_reason': 'stop', 'logprobs': None} id='run-de57e7af-675b-4625-bdd7-b071a4b0cb84-0' usage_metadata={'input_tokens': 155, 'output_tokens': 194, 'total_tokens': 349}\n"
          ]
        }
      ],
      "source": [
        "respone = rag_chain.invoke(\"What is a native application?\")\n",
        "respone = json.loads(respone)\n",
        "print(respone['answer'])\n",
        "result = judge_eval(respone['question'], respone['answer'])\n",
        "print(result['evaluation'])"
      ]
    },
    {
      "cell_type": "code",
      "execution_count": 104,
      "metadata": {
        "colab": {
          "base_uri": "https://localhost:8080/"
        },
        "id": "57DXrxK4aXpU",
        "outputId": "bc8890ce-cef9-441e-e050-45fe39d9d328"
      },
      "outputs": [
        {
          "name": "stdout",
          "output_type": "stream",
          "text": [
            "A web application (WB) is an application that the user does not download and instead accesses via a web browser over a network. It provides functionality, such as bank account access or YouTube video viewing, and can be written in JavaScript, CSS, and standard HTML for universal use across various browsers. Web applications can use a single code base because they are not designed around a specific device, and are fast and simple to build but not as quick as native applications. They are developed to be generic across multiple systems and differ from mobile native applications in that they use web technologies and are not limited to the underlying platform for deployment.\n",
            "content='**Relevance to the question:** The answer is highly relevant to the question \"What is a web application?\" It provides a clear and concise definition of a web application, explaining that it is an application accessed via a web browser, and describes its characteristics, advantages, and differences from native applications.\\n\\n**Hallucination:** No, the answer does not seem to hallucinate any information. The answer is based on factual information about web applications, and the language used is clear and straightforward. The model appears to have a good understanding of the topic and provides a accurate and comprehensive answer.\\n\\nOverall, the answer is well-written, informative, and relevant to the question, making it a strong response.' additional_kwargs={} response_metadata={'token_usage': {'completion_tokens': 139, 'prompt_tokens': 187, 'total_tokens': 326, 'completion_time': 0.115833333, 'prompt_time': 0.022901664, 'queue_time': 0.0019413360000000018, 'total_time': 0.138734997}, 'model_name': 'llama3-8b-8192', 'system_fingerprint': 'fp_873a560973', 'finish_reason': 'stop', 'logprobs': None} id='run-adb6de9e-9d73-4215-9d2e-39aaa3feb207-0' usage_metadata={'input_tokens': 187, 'output_tokens': 139, 'total_tokens': 326}\n"
          ]
        }
      ],
      "source": [
        "respone = rag_chain.invoke(\"What is a web application?\")\n",
        "respone = json.loads(respone)\n",
        "print(respone['answer'])\n",
        "result =judge_eval(respone['question'], respone['answer'])\n",
        "print(result['evaluation'])"
      ]
    }
  ],
  "metadata": {
    "accelerator": "GPU",
    "colab": {
      "gpuType": "T4",
      "provenance": []
    },
    "kernelspec": {
      "display_name": "Python 3",
      "name": "python3"
    },
    "language_info": {
      "name": "python"
    }
  },
  "nbformat": 4,
  "nbformat_minor": 0
}
